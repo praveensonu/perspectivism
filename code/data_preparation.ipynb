{
 "cells": [
  {
   "cell_type": "code",
   "execution_count": 1,
   "metadata": {},
   "outputs": [],
   "source": [
    "import pandas as pd\n",
    "import numpy as np\n",
    "from utils import *"
   ]
  },
  {
   "cell_type": "code",
   "execution_count": 2,
   "metadata": {},
   "outputs": [],
   "source": [
    "train = pd.read_csv('../dataset/train_gpt.csv')\n",
    "test = pd.read_csv('../dataset/test_gpt.csv')\n",
    "val = pd.read_csv('../dataset/val_gpt.csv')"
   ]
  },
  {
   "cell_type": "code",
   "execution_count": 10,
   "metadata": {},
   "outputs": [],
   "source": [
    "\n",
    "count_no_majority_train = train['majority_label'].value_counts().get(\"No majority\", 0)\n",
    "count_no_majority_test = test['majority_label'].value_counts().get(\"No majority\", 0)\n",
    "count_no_majority_val = val['majority_label'].value_counts().get(\"No majority\", 0)"
   ]
  },
  {
   "cell_type": "code",
   "execution_count": 11,
   "metadata": {},
   "outputs": [
    {
     "data": {
      "text/plain": [
       "(101, 18, 15)"
      ]
     },
     "execution_count": 11,
     "metadata": {},
     "output_type": "execute_result"
    }
   ],
   "source": [
    "count_no_majority_train, count_no_majority_test, count_no_majority_val"
   ]
  },
  {
   "cell_type": "code",
   "execution_count": 21,
   "metadata": {},
   "outputs": [],
   "source": [
    "def clean_data_new(df):\n",
    "    \n",
    "    df = df[df['majority_label'] != 'link broken']\n",
    "    return df\n",
    "\n",
    "def verify_filtering_new(df):\n",
    "   \n",
    "    print(f\"Numero di righe: {df.shape[0]}\")\n",
    "    print(f\"Numero di colonne: {df.shape[1]}\")"
   ]
  },
  {
   "cell_type": "code",
   "execution_count": 22,
   "metadata": {},
   "outputs": [
    {
     "name": "stdout",
     "output_type": "stream",
     "text": [
      "Numero di righe: 619\n",
      "Numero di colonne: 19\n",
      "Numero di righe: 139\n",
      "Numero di colonne: 19\n",
      "Numero di righe: 139\n",
      "Numero di colonne: 19\n"
     ]
    }
   ],
   "source": [
    "train_new = clean_data_new(train)\n",
    "verify_filtering_new(train_new)\n",
    "\n",
    "test_new = clean_data_new(test)\n",
    "verify_filtering_new(test_new)\n",
    "\n",
    "val_new = clean_data_new(val)\n",
    "verify_filtering_new(val_new)"
   ]
  },
  {
   "cell_type": "code",
   "execution_count": 12,
   "metadata": {},
   "outputs": [
    {
     "data": {
      "text/plain": [
       "\"Verification passed: No rows with 'No majority' and link broken are present.\""
      ]
     },
     "execution_count": 12,
     "metadata": {},
     "output_type": "execute_result"
    }
   ],
   "source": [
    "train = clean_data(train)  #old function\n",
    "verify_filtering(train)\n",
    "\n",
    "test = clean_data(test)\n",
    "verify_filtering(test)\n",
    "\n",
    "val = clean_data(val)\n",
    "verify_filtering(val)"
   ]
  },
  {
   "cell_type": "code",
   "execution_count": 18,
   "metadata": {},
   "outputs": [
    {
     "name": "stderr",
     "output_type": "stream",
     "text": [
      "/tmp/ipykernel_2538743/380316744.py:1: SettingWithCopyWarning: \n",
      "A value is trying to be set on a copy of a slice from a DataFrame.\n",
      "Try using .loc[row_indexer,col_indexer] = value instead\n",
      "\n",
      "See the caveats in the documentation: https://pandas.pydata.org/pandas-docs/stable/user_guide/indexing.html#returning-a-view-versus-a-copy\n",
      "  train['gpt_summaries'] = train['gpt_summaries'].fillna('')\n"
     ]
    }
   ],
   "source": [
    "train['gpt_summaries'] = train['gpt_summaries'].fillna('')\n",
    "test['gpt_summaries'] = test['gpt_summaries'].fillna('')\n",
    "val['gpt_summaries'] = val['gpt_summaries'].fillna('')"
   ]
  },
  {
   "cell_type": "code",
   "execution_count": 20,
   "metadata": {},
   "outputs": [
    {
     "name": "stdout",
     "output_type": "stream",
     "text": [
      "(619, 19)\n",
      "(139, 19)\n",
      "(139, 19)\n"
     ]
    }
   ],
   "source": [
    "print(train.shape)\n",
    "print(test.shape)\n",
    "print(val.shape)"
   ]
  },
  {
   "cell_type": "code",
   "execution_count": 6,
   "metadata": {},
   "outputs": [],
   "source": [
    "train['doc'] = train.apply(doc_cocat, axis = 1) \n",
    "test['doc'] = test.apply(doc_cocat, axis = 1)\n",
    "val['doc'] = val.apply(doc_cocat, axis = 1)"
   ]
  },
  {
   "cell_type": "code",
   "execution_count": 8,
   "metadata": {},
   "outputs": [],
   "source": [
    "def combine_columns(df):\n",
    "    \"\"\"\n",
    "    Combine 'Query', 'docTitle', and 'doc' columns into a new 'Input' column.\n",
    "\n",
    "    Parameters:\n",
    "    df (pd.DataFrame): DataFrame containing 'Query', 'docTitle', and 'doc' columns.\n",
    "\n",
    "    Returns:\n",
    "    pd.DataFrame: DataFrame with a new 'Input' column.\n",
    "    \"\"\"\n",
    "    df['Input'] = df['Query'] + ' ' + df['docTitle'] + '. ' + df['doc']\n",
    "    return df"
   ]
  },
  {
   "cell_type": "code",
   "execution_count": 9,
   "metadata": {},
   "outputs": [],
   "source": [
    "train = combine_columns(train)\n",
    "test = combine_columns(test)\n",
    "val = combine_columns(val)"
   ]
  },
  {
   "cell_type": "code",
   "execution_count": 10,
   "metadata": {},
   "outputs": [],
   "source": [
    "train['doc'] = train['doc'].str.replace('\\n', ' ')\n",
    "test['doc'] = test['doc'].str.replace('\\n', ' ')\n",
    "val['doc'] = val['doc'].str.replace('\\n', ' ')\n",
    "\n",
    "train['Input'] = train['Input'].str.replace('\\n', ' ')\n",
    "test['Input'] = test['Input'].str.replace('\\n', ' ')\n",
    "val['Input'] = val['Input'].str.replace('\\n', ' ')"
   ]
  },
  {
   "cell_type": "code",
   "execution_count": 11,
   "metadata": {},
   "outputs": [
    {
     "name": "stdout",
     "output_type": "stream",
     "text": [
      "Train DataFrame shape: (619, 7)\n",
      "Test DataFrame shape: (139, 7)\n",
      "Val DataFrame shape: (139, 7)\n",
      "Train, Test, and Val datasets for 'baseline' saved to ../dataset/baseline\n"
     ]
    }
   ],
   "source": [
    "output_directory = '../dataset/baseline'\n",
    "\n",
    "# Save the datasets for 'baseline'\n",
    "save_dataset(train, test, val, output_directory, 'baseline')\n",
    "\n"
   ]
  },
  {
   "cell_type": "code",
   "execution_count": 12,
   "metadata": {},
   "outputs": [
    {
     "name": "stdout",
     "output_type": "stream",
     "text": [
      "Train DataFrame shape: (1855, 7)\n",
      "Test DataFrame shape: (417, 7)\n",
      "Val DataFrame shape: (417, 7)\n",
      "Train, Test, and Val datasets for 'multip' saved to ../dataset/multip\n"
     ]
    }
   ],
   "source": [
    "# Save the datasets for 'multip'\n",
    "output_directory = '../dataset/multip'\n",
    "save_dataset(train, test, val, output_directory, 'multip')\n"
   ]
  },
  {
   "cell_type": "code",
   "execution_count": 13,
   "metadata": {},
   "outputs": [
    {
     "data": {
      "text/plain": [
       "majority_label\n",
       "Neutral      200\n",
       "Pro          154\n",
       "Against      138\n",
       "Not-about    127\n",
       "Name: count, dtype: int64"
      ]
     },
     "execution_count": 13,
     "metadata": {},
     "output_type": "execute_result"
    }
   ],
   "source": [
    "train['majority_label'].value_counts()"
   ]
  },
  {
   "cell_type": "code",
   "execution_count": null,
   "metadata": {},
   "outputs": [],
   "source": []
  }
 ],
 "metadata": {
  "kernelspec": {
   "display_name": "multip",
   "language": "python",
   "name": "multip"
  }
 },
 "nbformat": 4,
 "nbformat_minor": 2
}
