{
 "cells": [
  {
   "cell_type": "code",
   "execution_count": 2,
   "metadata": {},
   "outputs": [],
   "source": [
    "import pandas as pd\n",
    "import numpy as np\n",
    "from utils import *"
   ]
  },
  {
   "cell_type": "code",
   "execution_count": 7,
   "metadata": {},
   "outputs": [],
   "source": [
    "train_llm=pd.read_csv('../dataset/llm_annotations/train_llm_ann.csv')\n",
    "test_llm=pd.read_csv('../dataset/llm_annotations/test_llm_ann.csv')\n",
    "val_llm=pd.read_csv('../dataset/llm_annotations/val_llm_ann.csv')\n"
   ]
  },
  {
   "cell_type": "code",
   "execution_count": null,
   "metadata": {},
   "outputs": [],
   "source": [
    "from collections import Counter\n",
    "\n",
    "def create_majority_label(df):\n",
    "    def get_majority(row):\n",
    "        labels = [row['olmo'], row['mistral'], row['llama']]\n",
    "        label_counts = Counter(labels)\n",
    "        \n",
    "        # Trova la label più comune e il suo conteggio\n",
    "        most_common = label_counts.most_common(1)[0]\n",
    "        \n",
    "        if most_common[1] > 1:\n",
    "            # Se la label più comune appare più di una volta, è la maggioranza\n",
    "            return most_common[0]\n",
    "        else:\n",
    "            # Se non c'è una maggioranza chiara\n",
    "            return \"No majority\"\n",
    "    \n",
    "    df['majority_label'] = df.apply(get_majority, axis=1)\n",
    "    return df"
   ]
  },
  {
   "cell_type": "code",
   "execution_count": 13,
   "metadata": {},
   "outputs": [],
   "source": [
    "train_llm = create_majority_label(train_llm)\n",
    "test_llm = create_majority_label(test_llm)\n",
    "val_llm = create_majority_label(val_llm)"
   ]
  },
  {
   "cell_type": "code",
   "execution_count": 15,
   "metadata": {},
   "outputs": [],
   "source": [
    "count_no_majority_train_llm = train_llm['majority_label'].value_counts().get(\"No majority\", 0)\n",
    "count_no_majority_test_llm = test_llm['majority_label'].value_counts().get(\"No majority\", 0)\n",
    "count_no_majority_val_llm = val_llm['majority_label'].value_counts().get(\"No majority\", 0)"
   ]
  },
  {
   "cell_type": "code",
   "execution_count": null,
   "metadata": {},
   "outputs": [],
   "source": [
    "count_no_majority_train_llm,count_no_majority_test_llm, count_no_majority_val_llm"
   ]
  },
  {
   "cell_type": "code",
   "execution_count": 8,
   "metadata": {},
   "outputs": [],
   "source": [
    "train = pd.read_csv('../dataset/train_gpt.csv')\n",
    "test = pd.read_csv('../dataset/test_gpt.csv')\n",
    "val = pd.read_csv('../dataset/val_gpt.csv')"
   ]
  },
  {
   "cell_type": "code",
   "execution_count": 9,
   "metadata": {},
   "outputs": [],
   "source": [
    "def clean_data_new(df):\n",
    "    \n",
    "    df = df[df['majority_label'] != 'link broken']\n",
    "    return df\n",
    "\n",
    "def verify_filtering_new(df):\n",
    "    print(f\"Numero di righe: {df.shape[0]}\")\n",
    "    print(f\"Numero di colonne: {df.shape[1]}\")"
   ]
  },
  {
   "cell_type": "code",
   "execution_count": null,
   "metadata": {},
   "outputs": [],
   "source": [
    "train_llm= clean_data_new(train_llm)\n",
    "verify_filtering_new(train_llm)\n",
    "\n",
    "test_llm = clean_data_new(test_llm)\n",
    "verify_filtering_new(test_llm)\n",
    "\n",
    "val_llm = clean_data_new(val_llm)\n",
    "verify_filtering_new(val_llm)"
   ]
  },
  {
   "cell_type": "code",
   "execution_count": null,
   "metadata": {},
   "outputs": [],
   "source": [
    "train= clean_data_new(train)\n",
    "verify_filtering_new(train)\n",
    "\n",
    "test = clean_data_new(test)\n",
    "verify_filtering_new(test)\n",
    "\n",
    "val = clean_data_new(val)\n",
    "verify_filtering_new(val)"
   ]
  },
  {
   "cell_type": "code",
   "execution_count": 11,
   "metadata": {},
   "outputs": [],
   "source": [
    "count_no_majority_train = train['majority_label'].value_counts().get(\"No majority\", 0)\n",
    "count_no_majority_test = test['majority_label'].value_counts().get(\"No majority\", 0)\n",
    "count_no_majority_val = val['majority_label'].value_counts().get(\"No majority\", 0)"
   ]
  },
  {
   "cell_type": "code",
   "execution_count": null,
   "metadata": {},
   "outputs": [],
   "source": [
    "count_no_majority_train,count_no_majority_test,count_no_majority_val"
   ]
  },
  {
   "cell_type": "code",
   "execution_count": 13,
   "metadata": {},
   "outputs": [],
   "source": [
    "train['gpt_summaries'] = train['gpt_summaries'].fillna('')\n",
    "test['gpt_summaries'] = test['gpt_summaries'].fillna('')\n",
    "val['gpt_summaries'] = val['gpt_summaries'].fillna('')"
   ]
  },
  {
   "cell_type": "code",
   "execution_count": null,
   "metadata": {},
   "outputs": [],
   "source": [
    "print(train.shape)\n",
    "print(test.shape)\n",
    "print(val.shape)"
   ]
  },
  {
   "cell_type": "code",
   "execution_count": 15,
   "metadata": {},
   "outputs": [],
   "source": [
    "def doc_cocat(row):\n",
    "    if row['gpt_summaries'] != '':\n",
    "        return row['gpt_summaries']\n",
    "    else:\n",
    "        return row['docCont']\n",
    "\n",
    "train['doc'] = train.apply(doc_cocat, axis=1)\n",
    "test['doc'] = test.apply(doc_cocat, axis=1)\n",
    "val['doc'] = val.apply(doc_cocat, axis=1) "
   ]
  },
  {
   "cell_type": "code",
   "execution_count": 16,
   "metadata": {},
   "outputs": [],
   "source": [
    "def combine_columns(df): #combine to create Input\n",
    "    df['Input'] = df['Query'] + ' ' + df['docTitle'] + '. ' + df['doc']\n",
    "    return df\n",
    "\n",
    "train = combine_columns(train)\n",
    "test = combine_columns(test)\n",
    "val = combine_columns(val)"
   ]
  },
  {
   "cell_type": "code",
   "execution_count": 17,
   "metadata": {},
   "outputs": [],
   "source": [
    "train['doc'] = train['doc'].str.replace('\\n', ' ')\n",
    "test['doc'] = test['doc'].str.replace('\\n', ' ')\n",
    "val['doc'] = val['doc'].str.replace('\\n', ' ')\n",
    "\n",
    "train['Input'] = train['Input'].str.replace('\\n', ' ')\n",
    "test['Input'] = test['Input'].str.replace('\\n', ' ')\n",
    "val['Input'] = val['Input'].str.replace('\\n', ' ')"
   ]
  },
  {
   "cell_type": "code",
   "execution_count": null,
   "metadata": {},
   "outputs": [],
   "source": [
    "train['majority_label'].value_counts() "
   ]
  },
  {
   "cell_type": "code",
   "execution_count": null,
   "metadata": {},
   "outputs": [],
   "source": [
    "import os\n",
    "\n",
    "\n",
    "def create_directory(directory_path):\n",
    "    \"\"\"\n",
    "    Crea una nuova directory se non esiste già.\n",
    "    \"\"\"\n",
    "    if not os.path.exists(directory_path):\n",
    "        os.makedirs(directory_path)\n",
    "        print(f\"Directory '{directory_path}' creata.\")\n",
    "    else:\n",
    "        print(f\"Directory '{directory_path}' già esistente.\")\n",
    "\n",
    "def save_dataset(train, test, val, output_directory, prefix):\n",
    "    \"\"\"\n",
    "    Salva i DataFrame come file CSV nella directory di output con i nomi prefissati.\n",
    "    \"\"\"\n",
    "    # Assicurati che la directory esista\n",
    "    create_directory(output_directory)\n",
    "    \n",
    "    # Costruisci i percorsi completi per i file di output\n",
    "    train_path = os.path.join(output_directory, f'{prefix}_train.csv')\n",
    "    test_path = os.path.join(output_directory, f'{prefix}_test.csv')\n",
    "    val_path = os.path.join(output_directory, f'{prefix}_val.csv')\n",
    "    \n",
    "    # Salva i DataFrame come file CSV\n",
    "    train.to_csv(train_path, index=False)\n",
    "    test.to_csv(test_path, index=False)\n",
    "    val.to_csv(val_path, index=False)\n",
    "\n",
    "    print(f\"Dataset salvati nella directory '{output_directory}'.\")\n",
    "\n",
    "\n",
    "# Specifica il percorso della nuova directory e i nomi dei file\n",
    "output_directory = '../dataset/multip_new'\n",
    "prefix = 'multip'\n",
    "\n",
    "# Usa la funzione per salvare i dataset nella nuova directory\n",
    "save_dataset(train, test, val, output_directory, prefix)\n"
   ]
  },
  {
   "cell_type": "code",
   "execution_count": null,
   "metadata": {},
   "outputs": [],
   "source": [
    "output_directory = '../dataset/multip' #with no majority instances \n",
    "\n",
    "\n",
    "save_dataset(train, test, val, output_directory, 'multip') "
   ]
  },
  {
   "cell_type": "code",
   "execution_count": null,
   "metadata": {},
   "outputs": [],
   "source": [
    "train['majority_label'].value_counts() "
   ]
  },
  {
   "cell_type": "code",
   "execution_count": 25,
   "metadata": {},
   "outputs": [],
   "source": [
    "col_name=[\"answer1\",\"answer2\",\"answer3\",\"majority_label\"]\n",
    "condition = train[col_name].apply(lambda col: col.str.contains('Link-broken', na=False)).any(axis=1)\n",
    "\n",
    "# Filtra le righe che soddisfano la condizione\n",
    "link_broken_rows = train[condition]"
   ]
  },
  {
   "cell_type": "code",
   "execution_count": 19,
   "metadata": {},
   "outputs": [],
   "source": [
    "import os\n",
    "directory = directory_path\n",
    "train_file = os.path.join(directory, 'train_multip_human.csv')\n",
    "test_file = os.path.join(directory, 'test_multip_human.csv')\n",
    "val_file = os.path.join(directory, 'val_multip_human.csv')\n",
    "\n",
    "\n",
    "train.to_csv(train_file, index=False)\n",
    "test.to_csv(test_file, index=False)\n",
    "val.to_csv(val_file, index=False) "
   ]
  },
  {
   "cell_type": "code",
   "execution_count": 3,
   "metadata": {},
   "outputs": [],
   "source": [
    "train_df=pd.read_csv(multip_train_path)\n",
    "val_df=pd.read_csv(multip_val_path)\n",
    "test_df=pd.read_csv(multip_test_path)"
   ]
  },
  {
   "cell_type": "code",
   "execution_count": null,
   "metadata": {},
   "outputs": [],
   "source": [
    "cols_of_interest = ['answer1', 'answer2', 'answer3']\n",
    "rows_with_nan = train_df[train_df[cols_of_interest].isna().any(axis=1)]\n",
    "print(rows_with_nan)"
   ]
  },
  {
   "cell_type": "code",
   "execution_count": null,
   "metadata": {},
   "outputs": [],
   "source": [
    "test_df['majority_label'].value_counts()"
   ]
  },
  {
   "cell_type": "code",
   "execution_count": 27,
   "metadata": {},
   "outputs": [],
   "source": [
    "\n",
    "import os\n",
    "directory = directory_path\n",
    "train_file = os.path.join(directory, 'train_llm.csv')\n",
    "test_file = os.path.join(directory, 'test_llm.csv')\n",
    "val_file = os.path.join(directory, 'val_llm.csv')\n",
    "\n",
    "\n",
    "train_llm.to_csv(train_file, index=False)\n",
    "test_llm.to_csv(test_file, index=False)\n",
    "val_llm.to_csv(val_file, index=False) "
   ]
  },
  {
   "cell_type": "code",
   "execution_count": null,
   "metadata": {},
   "outputs": [],
   "source": [
    "import os\n",
    "directory = directory_path\n",
    "train_file = os.path.join(directory, 'train_llm_instr.csv')\n",
    "test_file = os.path.join(directory, 'test_llm_instr.csv')\n",
    "val_file = os.path.join(directory, 'val_llm_instr.csv')\n"
   ]
  }
 ],
 "metadata": {
  "kernelspec": {
   "display_name": "multip",
   "language": "python",
   "name": "multip"
  },
  "language_info": {
   "codemirror_mode": {
    "name": "ipython",
    "version": 3
   },
   "file_extension": ".py",
   "mimetype": "text/x-python",
   "name": "python",
   "nbconvert_exporter": "python",
   "pygments_lexer": "ipython3",
   "version": "3.10.12"
  }
 },
 "nbformat": 4,
 "nbformat_minor": 2
}
