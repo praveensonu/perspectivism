{
 "cells": [
  {
   "cell_type": "markdown",
   "metadata": {},
   "source": []
  },
  {
   "cell_type": "markdown",
   "metadata": {},
   "source": [
    "Classification multi-perspective approach BERT-large HD "
   ]
  },
  {
   "cell_type": "code",
   "execution_count": 3,
   "metadata": {},
   "outputs": [],
   "source": [
    "import ast \n",
    "import numpy as np\n",
    "import torch\n",
    "from datasets import Dataset, DatasetDict\n",
    "from transformers import (\n",
    "    AutoTokenizer,\n",
    "    AutoModelForSequenceClassification,\n",
    "    TrainingArguments,\n",
    "    Trainer,\n",
    "    DataCollatorWithPadding\n",
    ")\n",
    "\n",
    "\n",
    "from torch.utils.data import Dataset, DataLoader\n",
    "from transformers import BertModel, BertTokenizer, BertForSequenceClassification\n",
    "import torch.nn as nn\n",
    "import torch.optim as optim\n",
    "from torch.utils.data import Dataset, DataLoader, random_split"
   ]
  },
  {
   "cell_type": "code",
   "execution_count": null,
   "metadata": {},
   "outputs": [],
   "source": [
    "#formatting soft labels\n",
    "train['soft_labels'] = train['soft_labels'].apply(ast.literal_eval).tolist()\n",
    "test['soft_labels'] = test['soft_labels'].apply(ast.literal_eval).tolist()\n",
    "val['soft_labels'] = val['soft_labels'].apply(ast.literal_eval).tolist()"
   ]
  },
  {
   "cell_type": "code",
   "execution_count": 4,
   "metadata": {},
   "outputs": [],
   "source": [
    "#dataset\n",
    "train = Dataset.from_pandas(train)\n",
    "val = Dataset.from_pandas(val)\n",
    "test = Dataset.from_pandas(test)\n",
    "\n",
    "dataset = DatasetDict() \n",
    "dataset['train'] = train\n",
    "dataset['val'] = val\n",
    "dataset['test'] = test"
   ]
  },
  {
   "cell_type": "code",
   "execution_count": 5,
   "metadata": {},
   "outputs": [],
   "source": [
    "#model\n",
    "model_name = 'bert-large-uncased'\n",
    "model_name_filename = model_name.replace(\"/\", \"-\")"
   ]
  },
  {
   "cell_type": "code",
   "execution_count": null,
   "metadata": {},
   "outputs": [],
   "source": [
    "#tokenizer\n",
    "tokenizer = AutoTokenizer.from_pretrained(model_name)"
   ]
  },
  {
   "cell_type": "code",
   "execution_count": 7,
   "metadata": {},
   "outputs": [],
   "source": [
    "def tokenize_func(examples):\n",
    "    # Tokenize the input text and map the 'soft_labels' column to 'labels'\n",
    "    tokenized_inputs = tokenizer(examples['Input'], padding='max_length', truncation=True, max_length=512)\n",
    "    tokenized_inputs['labels'] = examples['soft_labels']  \n",
    "    return tokenized_inputs"
   ]
  },
  {
   "cell_type": "code",
   "execution_count": 8,
   "metadata": {},
   "outputs": [
    {
     "data": {
      "application/vnd.jupyter.widget-view+json": {
       "model_id": "0399d0c523a54961aadb7aa843ddda3b",
       "version_major": 2,
       "version_minor": 0
      },
      "text/plain": [
       "Map:   0%|          | 0/619 [00:00<?, ? examples/s]"
      ]
     },
     "metadata": {},
     "output_type": "display_data"
    },
    {
     "data": {
      "application/vnd.jupyter.widget-view+json": {
       "model_id": "beaa2700f75846748b4a802bfb4fcd31",
       "version_major": 2,
       "version_minor": 0
      },
      "text/plain": [
       "Map:   0%|          | 0/139 [00:00<?, ? examples/s]"
      ]
     },
     "metadata": {},
     "output_type": "display_data"
    }
   ],
   "source": [
    "train_tokenized = train.map(tokenize_func, batched = True)\n",
    "val_tokenized = val.map(tokenize_func, batched = True) "
   ]
  },
  {
   "cell_type": "code",
   "execution_count": 9,
   "metadata": {},
   "outputs": [
    {
     "data": {
      "text/plain": [
       "Dataset({\n",
       "    features: ['Unnamed: 0', 'docID', 'Query', 'docTitle', 'doc', 'Input', 'labels', 'majority_label', 'label_index', 'soft_labels', 'input_ids', 'token_type_ids', 'attention_mask'],\n",
       "    num_rows: 619\n",
       "})"
      ]
     },
     "execution_count": 9,
     "metadata": {},
     "output_type": "execute_result"
    }
   ],
   "source": [
    "train_tokenized"
   ]
  },
  {
   "cell_type": "code",
   "execution_count": 10,
   "metadata": {},
   "outputs": [],
   "source": [
    "train_tokenized.set_format('torch', columns =['input_ids', 'token_type_ids', 'attention_mask', 'labels'])\n",
    "val_tokenized.set_format('torch', columns = ['input_ids', 'token_type_ids', 'attention_mask', 'labels'])"
   ]
  },
  {
   "cell_type": "code",
   "execution_count": 11,
   "metadata": {},
   "outputs": [
    {
     "data": {
      "text/plain": [
       "tensor([0.9000, 0.0000, 0.0000, 0.0000])"
      ]
     },
     "execution_count": 11,
     "metadata": {},
     "output_type": "execute_result"
    }
   ],
   "source": [
    "train_tokenized['labels'][0]"
   ]
  },
  {
   "cell_type": "code",
   "execution_count": 12,
   "metadata": {},
   "outputs": [],
   "source": [
    "num_labels=len(train_tokenized['labels'][0])"
   ]
  },
  {
   "cell_type": "code",
   "execution_count": 13,
   "metadata": {},
   "outputs": [
    {
     "data": {
      "text/plain": [
       "4"
      ]
     },
     "execution_count": 13,
     "metadata": {},
     "output_type": "execute_result"
    }
   ],
   "source": [
    "num_labels"
   ]
  },
  {
   "cell_type": "code",
   "execution_count": 14,
   "metadata": {},
   "outputs": [
    {
     "name": "stderr",
     "output_type": "stream",
     "text": [
      "A parameter name that contains `beta` will be renamed internally to `bias`. Please use a different name to suppress this warning.\n",
      "A parameter name that contains `gamma` will be renamed internally to `weight`. Please use a different name to suppress this warning.\n",
      "A parameter name that contains `beta` will be renamed internally to `bias`. Please use a different name to suppress this warning.\n",
      "A parameter name that contains `gamma` will be renamed internally to `weight`. Please use a different name to suppress this warning.\n",
      "A parameter name that contains `beta` will be renamed internally to `bias`. Please use a different name to suppress this warning.\n",
      "A parameter name that contains `gamma` will be renamed internally to `weight`. Please use a different name to suppress this warning.\n",
      "A parameter name that contains `beta` will be renamed internally to `bias`. Please use a different name to suppress this warning.\n",
      "A parameter name that contains `gamma` will be renamed internally to `weight`. Please use a different name to suppress this warning.\n",
      "A parameter name that contains `beta` will be renamed internally to `bias`. Please use a different name to suppress this warning.\n",
      "A parameter name that contains `gamma` will be renamed internally to `weight`. Please use a different name to suppress this warning.\n",
      "A parameter name that contains `beta` will be renamed internally to `bias`. Please use a different name to suppress this warning.\n",
      "A parameter name that contains `gamma` will be renamed internally to `weight`. Please use a different name to suppress this warning.\n",
      "A parameter name that contains `beta` will be renamed internally to `bias`. Please use a different name to suppress this warning.\n",
      "A parameter name that contains `gamma` will be renamed internally to `weight`. Please use a different name to suppress this warning.\n",
      "A parameter name that contains `beta` will be renamed internally to `bias`. Please use a different name to suppress this warning.\n",
      "A parameter name that contains `gamma` will be renamed internally to `weight`. Please use a different name to suppress this warning.\n",
      "A parameter name that contains `beta` will be renamed internally to `bias`. Please use a different name to suppress this warning.\n",
      "A parameter name that contains `gamma` will be renamed internally to `weight`. Please use a different name to suppress this warning.\n",
      "A parameter name that contains `beta` will be renamed internally to `bias`. Please use a different name to suppress this warning.\n",
      "A parameter name that contains `gamma` will be renamed internally to `weight`. Please use a different name to suppress this warning.\n",
      "A parameter name that contains `beta` will be renamed internally to `bias`. Please use a different name to suppress this warning.\n",
      "A parameter name that contains `gamma` will be renamed internally to `weight`. Please use a different name to suppress this warning.\n",
      "A parameter name that contains `beta` will be renamed internally to `bias`. Please use a different name to suppress this warning.\n",
      "A parameter name that contains `gamma` will be renamed internally to `weight`. Please use a different name to suppress this warning.\n",
      "A parameter name that contains `beta` will be renamed internally to `bias`. Please use a different name to suppress this warning.\n",
      "A parameter name that contains `gamma` will be renamed internally to `weight`. Please use a different name to suppress this warning.\n",
      "A parameter name that contains `beta` will be renamed internally to `bias`. Please use a different name to suppress this warning.\n",
      "A parameter name that contains `gamma` will be renamed internally to `weight`. Please use a different name to suppress this warning.\n",
      "A parameter name that contains `beta` will be renamed internally to `bias`. Please use a different name to suppress this warning.\n",
      "A parameter name that contains `gamma` will be renamed internally to `weight`. Please use a different name to suppress this warning.\n",
      "A parameter name that contains `beta` will be renamed internally to `bias`. Please use a different name to suppress this warning.\n",
      "A parameter name that contains `gamma` will be renamed internally to `weight`. Please use a different name to suppress this warning.\n",
      "A parameter name that contains `beta` will be renamed internally to `bias`. Please use a different name to suppress this warning.\n",
      "A parameter name that contains `gamma` will be renamed internally to `weight`. Please use a different name to suppress this warning.\n",
      "A parameter name that contains `beta` will be renamed internally to `bias`. Please use a different name to suppress this warning.\n",
      "A parameter name that contains `gamma` will be renamed internally to `weight`. Please use a different name to suppress this warning.\n",
      "A parameter name that contains `beta` will be renamed internally to `bias`. Please use a different name to suppress this warning.\n",
      "A parameter name that contains `gamma` will be renamed internally to `weight`. Please use a different name to suppress this warning.\n",
      "A parameter name that contains `beta` will be renamed internally to `bias`. Please use a different name to suppress this warning.\n",
      "A parameter name that contains `gamma` will be renamed internally to `weight`. Please use a different name to suppress this warning.\n",
      "A parameter name that contains `beta` will be renamed internally to `bias`. Please use a different name to suppress this warning.\n",
      "A parameter name that contains `gamma` will be renamed internally to `weight`. Please use a different name to suppress this warning.\n",
      "A parameter name that contains `beta` will be renamed internally to `bias`. Please use a different name to suppress this warning.\n",
      "A parameter name that contains `gamma` will be renamed internally to `weight`. Please use a different name to suppress this warning.\n",
      "A parameter name that contains `beta` will be renamed internally to `bias`. Please use a different name to suppress this warning.\n",
      "A parameter name that contains `gamma` will be renamed internally to `weight`. Please use a different name to suppress this warning.\n",
      "A parameter name that contains `beta` will be renamed internally to `bias`. Please use a different name to suppress this warning.\n",
      "A parameter name that contains `gamma` will be renamed internally to `weight`. Please use a different name to suppress this warning.\n",
      "A parameter name that contains `beta` will be renamed internally to `bias`. Please use a different name to suppress this warning.\n",
      "A parameter name that contains `gamma` will be renamed internally to `weight`. Please use a different name to suppress this warning.\n",
      "A parameter name that contains `beta` will be renamed internally to `bias`. Please use a different name to suppress this warning.\n",
      "A parameter name that contains `gamma` will be renamed internally to `weight`. Please use a different name to suppress this warning.\n",
      "A parameter name that contains `beta` will be renamed internally to `bias`. Please use a different name to suppress this warning.\n",
      "A parameter name that contains `gamma` will be renamed internally to `weight`. Please use a different name to suppress this warning.\n",
      "A parameter name that contains `beta` will be renamed internally to `bias`. Please use a different name to suppress this warning.\n",
      "A parameter name that contains `gamma` will be renamed internally to `weight`. Please use a different name to suppress this warning.\n",
      "A parameter name that contains `beta` will be renamed internally to `bias`. Please use a different name to suppress this warning.\n",
      "A parameter name that contains `gamma` will be renamed internally to `weight`. Please use a different name to suppress this warning.\n",
      "A parameter name that contains `beta` will be renamed internally to `bias`. Please use a different name to suppress this warning.\n",
      "A parameter name that contains `gamma` will be renamed internally to `weight`. Please use a different name to suppress this warning.\n",
      "A parameter name that contains `beta` will be renamed internally to `bias`. Please use a different name to suppress this warning.\n",
      "A parameter name that contains `gamma` will be renamed internally to `weight`. Please use a different name to suppress this warning.\n",
      "A parameter name that contains `beta` will be renamed internally to `bias`. Please use a different name to suppress this warning.\n",
      "A parameter name that contains `gamma` will be renamed internally to `weight`. Please use a different name to suppress this warning.\n",
      "A parameter name that contains `beta` will be renamed internally to `bias`. Please use a different name to suppress this warning.\n",
      "A parameter name that contains `gamma` will be renamed internally to `weight`. Please use a different name to suppress this warning.\n",
      "A parameter name that contains `beta` will be renamed internally to `bias`. Please use a different name to suppress this warning.\n",
      "A parameter name that contains `gamma` will be renamed internally to `weight`. Please use a different name to suppress this warning.\n",
      "A parameter name that contains `beta` will be renamed internally to `bias`. Please use a different name to suppress this warning.\n",
      "A parameter name that contains `gamma` will be renamed internally to `weight`. Please use a different name to suppress this warning.\n",
      "A parameter name that contains `beta` will be renamed internally to `bias`. Please use a different name to suppress this warning.\n",
      "A parameter name that contains `gamma` will be renamed internally to `weight`. Please use a different name to suppress this warning.\n",
      "A parameter name that contains `beta` will be renamed internally to `bias`. Please use a different name to suppress this warning.\n",
      "A parameter name that contains `gamma` will be renamed internally to `weight`. Please use a different name to suppress this warning.\n",
      "A parameter name that contains `beta` will be renamed internally to `bias`. Please use a different name to suppress this warning.\n",
      "A parameter name that contains `gamma` will be renamed internally to `weight`. Please use a different name to suppress this warning.\n",
      "A parameter name that contains `beta` will be renamed internally to `bias`. Please use a different name to suppress this warning.\n",
      "A parameter name that contains `gamma` will be renamed internally to `weight`. Please use a different name to suppress this warning.\n",
      "A parameter name that contains `beta` will be renamed internally to `bias`. Please use a different name to suppress this warning.\n",
      "A parameter name that contains `gamma` will be renamed internally to `weight`. Please use a different name to suppress this warning.\n",
      "A parameter name that contains `beta` will be renamed internally to `bias`. Please use a different name to suppress this warning.\n",
      "A parameter name that contains `gamma` will be renamed internally to `weight`. Please use a different name to suppress this warning.\n",
      "A parameter name that contains `beta` will be renamed internally to `bias`. Please use a different name to suppress this warning.\n",
      "A parameter name that contains `gamma` will be renamed internally to `weight`. Please use a different name to suppress this warning.\n",
      "A parameter name that contains `beta` will be renamed internally to `bias`. Please use a different name to suppress this warning.\n",
      "A parameter name that contains `gamma` will be renamed internally to `weight`. Please use a different name to suppress this warning.\n",
      "A parameter name that contains `beta` will be renamed internally to `bias`. Please use a different name to suppress this warning.\n",
      "A parameter name that contains `gamma` will be renamed internally to `weight`. Please use a different name to suppress this warning.\n",
      "A parameter name that contains `beta` will be renamed internally to `bias`. Please use a different name to suppress this warning.\n",
      "A parameter name that contains `gamma` will be renamed internally to `weight`. Please use a different name to suppress this warning.\n",
      "A parameter name that contains `beta` will be renamed internally to `bias`. Please use a different name to suppress this warning.\n",
      "A parameter name that contains `gamma` will be renamed internally to `weight`. Please use a different name to suppress this warning.\n",
      "A parameter name that contains `beta` will be renamed internally to `bias`. Please use a different name to suppress this warning.\n",
      "A parameter name that contains `gamma` will be renamed internally to `weight`. Please use a different name to suppress this warning.\n",
      "A parameter name that contains `beta` will be renamed internally to `bias`. Please use a different name to suppress this warning.\n",
      "A parameter name that contains `gamma` will be renamed internally to `weight`. Please use a different name to suppress this warning.\n",
      "A parameter name that contains `beta` will be renamed internally to `bias`. Please use a different name to suppress this warning.\n",
      "A parameter name that contains `gamma` will be renamed internally to `weight`. Please use a different name to suppress this warning.\n",
      "A parameter name that contains `beta` will be renamed internally to `bias`. Please use a different name to suppress this warning.\n",
      "A parameter name that contains `gamma` will be renamed internally to `weight`. Please use a different name to suppress this warning.\n",
      "Some weights of BertForSequenceClassification were not initialized from the model checkpoint at bert-large-uncased and are newly initialized: ['classifier.bias', 'classifier.weight']\n",
      "You should probably TRAIN this model on a down-stream task to be able to use it for predictions and inference.\n"
     ]
    }
   ],
   "source": [
    "model = AutoModelForSequenceClassification.from_pretrained(model_name, num_labels=num_labels)"
   ]
  },
  {
   "cell_type": "code",
   "execution_count": 17,
   "metadata": {},
   "outputs": [],
   "source": [
    "output_dir = f\"./multiclassification/{model_name_filename}/results/human\""
   ]
  },
  {
   "cell_type": "code",
   "execution_count": 18,
   "metadata": {},
   "outputs": [
    {
     "data": {
      "text/plain": [
       "'./multiclassification/bert-large-uncased/results/human'"
      ]
     },
     "execution_count": 18,
     "metadata": {},
     "output_type": "execute_result"
    }
   ],
   "source": [
    "output_dir"
   ]
  },
  {
   "cell_type": "code",
   "execution_count": null,
   "metadata": {},
   "outputs": [],
   "source": [
    "#training arguments\n",
    "training_args = TrainingArguments(\n",
    "    output_dir=output_dir,\n",
    "    num_train_epochs=6,\n",
    "    per_device_train_batch_size=8,\n",
    "    per_device_eval_batch_size=8,\n",
    "    warmup_steps=500,\n",
    "    weight_decay=0.01,\n",
    "    logging_dir=\"./logs\",\n",
    "    logging_steps=10,\n",
    "    evaluation_strategy=\"epoch\",\n",
    "    save_strategy=\"epoch\",\n",
    "    load_best_model_at_end=True,\n",
    ")"
   ]
  },
  {
   "cell_type": "code",
   "execution_count": 20,
   "metadata": {},
   "outputs": [],
   "source": [
    "data_collator = DataCollatorWithPadding(tokenizer=tokenizer)"
   ]
  },
  {
   "cell_type": "code",
   "execution_count": 21,
   "metadata": {},
   "outputs": [],
   "source": [
    "#definition soft loss function \n",
    "\n",
    "def softmax(logits):\n",
    "    \"\"\"\n",
    "    Compute softmax probabilities from logits.\n",
    "    \n",
    "    Parameters:\n",
    "    - logits: A numpy array of shape (n, num_classes) containing the logits.\n",
    "    \n",
    "    Returns:\n",
    "    - probabilities: A numpy array of shape (n, num_classes) containing the softmax probabilities.\n",
    "    \"\"\"\n",
    "    exp_logits = np.exp(logits - np.max(logits, axis=1, keepdims=True))\n",
    "    return exp_logits / np.sum(exp_logits, axis=1, keepdims=True)\n",
    "\n",
    "def soft_loss_function(true_probabilities, predicted_logits):\n",
    "    \"\"\"\n",
    "    Compute the soft loss function (cross-entropy with soft labels) using PyTorch tensors.\n",
    "    \n",
    "    Parameters:\n",
    "    - true_probabilities: A PyTorch tensor of shape (n, num_classes) containing the true probability distributions.\n",
    "    - predicted_logits: A PyTorch tensor of shape (n, num_classes) containing the logits from the model.\n",
    "    \n",
    "    Returns:\n",
    "    - loss: The computed soft loss.\n",
    "    \"\"\"\n",
    "   \n",
    "    predicted_probabilities = torch.nn.functional.softmax(predicted_logits, dim=-1)\n",
    "    \n",
    "  \n",
    "    epsilon = 1e-15\n",
    "    predicted_probabilities = torch.clamp(predicted_probabilities, epsilon, 1. - epsilon)\n",
    "    \n",
    "   \n",
    "    loss = -torch.sum(true_probabilities * torch.log(predicted_probabilities))\n",
    "    \n",
    "    return loss\n",
    "\n",
    "class CustomTrainer(Trainer):\n",
    "    def compute_loss(self, model, inputs, return_outputs=False):\n",
    "        \"\"\"\n",
    "        Compute the loss for the model. This uses the soft_loss_function.\n",
    "\n",
    "        Parameters:\n",
    "        - model: The model to evaluate.\n",
    "        - inputs: A dictionary of inputs to the model.\n",
    "        - return_outputs: Whether to return model outputs along with loss.\n",
    "\n",
    "        Returns:\n",
    "        - loss: The computed loss.\n",
    "        - outputs (optional): The model outputs, if return_outputs is True.\n",
    "        \"\"\"\n",
    "        labels = inputs.pop(\"labels\")\n",
    "        \n",
    "       \n",
    "        outputs = model(**inputs)\n",
    "        logits = outputs.logits\n",
    "        \n",
    "      \n",
    "        true_probabilities = labels  \n",
    "        logits = logits  \n",
    "        \n",
    "       \n",
    "        loss = soft_loss_function(true_probabilities, logits)\n",
    "        \n",
    "        return (loss, outputs) if return_outputs else loss\n"
   ]
  },
  {
   "cell_type": "code",
   "execution_count": 22,
   "metadata": {},
   "outputs": [],
   "source": [
    "trainer = CustomTrainer(\n",
    "    model=model,\n",
    "    args=training_args,\n",
    "    train_dataset=train_tokenized,\n",
    "    eval_dataset=val_tokenized,\n",
    "    tokenizer=tokenizer,\n",
    "    data_collator=data_collator,\n",
    ")"
   ]
  },
  {
   "cell_type": "code",
   "execution_count": null,
   "metadata": {},
   "outputs": [],
   "source": [
    "trainer.train()"
   ]
  },
  {
   "cell_type": "code",
   "execution_count": null,
   "metadata": {},
   "outputs": [],
   "source": [
    "eval_results = trainer.evaluate()\n",
    "print(eval_results) "
   ]
  },
  {
   "cell_type": "code",
   "execution_count": 26,
   "metadata": {},
   "outputs": [
    {
     "data": {
      "text/plain": [
       "('./multiclassification/bert-large-uncased/results/best_model_human/tokenizer_config.json',\n",
       " './multiclassification/bert-large-uncased/results/best_model_human/special_tokens_map.json',\n",
       " './multiclassification/bert-large-uncased/results/best_model_human/vocab.txt',\n",
       " './multiclassification/bert-large-uncased/results/best_model_human/added_tokens.json',\n",
       " './multiclassification/bert-large-uncased/results/best_model_human/tokenizer.json')"
      ]
     },
     "execution_count": 26,
     "metadata": {},
     "output_type": "execute_result"
    }
   ],
   "source": [
    "model.save_pretrained(f'./multiclassification/{model_name_filename}/results/best_model_human')\n",
    "tokenizer.save_pretrained(f'./multiclassification/{model_name_filename}/results/best_model_human') "
   ]
  },
  {
   "cell_type": "code",
   "execution_count": 27,
   "metadata": {},
   "outputs": [
    {
     "data": {
      "text/plain": [
       "BertForSequenceClassification(\n",
       "  (bert): BertModel(\n",
       "    (embeddings): BertEmbeddings(\n",
       "      (word_embeddings): Embedding(30522, 1024, padding_idx=0)\n",
       "      (position_embeddings): Embedding(512, 1024)\n",
       "      (token_type_embeddings): Embedding(2, 1024)\n",
       "      (LayerNorm): LayerNorm((1024,), eps=1e-12, elementwise_affine=True)\n",
       "      (dropout): Dropout(p=0.1, inplace=False)\n",
       "    )\n",
       "    (encoder): BertEncoder(\n",
       "      (layer): ModuleList(\n",
       "        (0-23): 24 x BertLayer(\n",
       "          (attention): BertAttention(\n",
       "            (self): BertSdpaSelfAttention(\n",
       "              (query): Linear(in_features=1024, out_features=1024, bias=True)\n",
       "              (key): Linear(in_features=1024, out_features=1024, bias=True)\n",
       "              (value): Linear(in_features=1024, out_features=1024, bias=True)\n",
       "              (dropout): Dropout(p=0.1, inplace=False)\n",
       "            )\n",
       "            (output): BertSelfOutput(\n",
       "              (dense): Linear(in_features=1024, out_features=1024, bias=True)\n",
       "              (LayerNorm): LayerNorm((1024,), eps=1e-12, elementwise_affine=True)\n",
       "              (dropout): Dropout(p=0.1, inplace=False)\n",
       "            )\n",
       "          )\n",
       "          (intermediate): BertIntermediate(\n",
       "            (dense): Linear(in_features=1024, out_features=4096, bias=True)\n",
       "            (intermediate_act_fn): GELUActivation()\n",
       "          )\n",
       "          (output): BertOutput(\n",
       "            (dense): Linear(in_features=4096, out_features=1024, bias=True)\n",
       "            (LayerNorm): LayerNorm((1024,), eps=1e-12, elementwise_affine=True)\n",
       "            (dropout): Dropout(p=0.1, inplace=False)\n",
       "          )\n",
       "        )\n",
       "      )\n",
       "    )\n",
       "    (pooler): BertPooler(\n",
       "      (dense): Linear(in_features=1024, out_features=1024, bias=True)\n",
       "      (activation): Tanh()\n",
       "    )\n",
       "  )\n",
       "  (dropout): Dropout(p=0.1, inplace=False)\n",
       "  (classifier): Linear(in_features=1024, out_features=4, bias=True)\n",
       ")"
      ]
     },
     "execution_count": 27,
     "metadata": {},
     "output_type": "execute_result"
    }
   ],
   "source": [
    "model "
   ]
  },
  {
   "cell_type": "code",
   "execution_count": 28,
   "metadata": {},
   "outputs": [
    {
     "data": {
      "application/vnd.jupyter.widget-view+json": {
       "model_id": "afed79fdf81e4e1f859e768b10c50d67",
       "version_major": 2,
       "version_minor": 0
      },
      "text/plain": [
       "Map:   0%|          | 0/139 [00:00<?, ? examples/s]"
      ]
     },
     "metadata": {},
     "output_type": "display_data"
    },
    {
     "data": {
      "text/plain": [
       "BertForSequenceClassification(\n",
       "  (bert): BertModel(\n",
       "    (embeddings): BertEmbeddings(\n",
       "      (word_embeddings): Embedding(30522, 1024, padding_idx=0)\n",
       "      (position_embeddings): Embedding(512, 1024)\n",
       "      (token_type_embeddings): Embedding(2, 1024)\n",
       "      (LayerNorm): LayerNorm((1024,), eps=1e-12, elementwise_affine=True)\n",
       "      (dropout): Dropout(p=0.1, inplace=False)\n",
       "    )\n",
       "    (encoder): BertEncoder(\n",
       "      (layer): ModuleList(\n",
       "        (0-23): 24 x BertLayer(\n",
       "          (attention): BertAttention(\n",
       "            (self): BertSdpaSelfAttention(\n",
       "              (query): Linear(in_features=1024, out_features=1024, bias=True)\n",
       "              (key): Linear(in_features=1024, out_features=1024, bias=True)\n",
       "              (value): Linear(in_features=1024, out_features=1024, bias=True)\n",
       "              (dropout): Dropout(p=0.1, inplace=False)\n",
       "            )\n",
       "            (output): BertSelfOutput(\n",
       "              (dense): Linear(in_features=1024, out_features=1024, bias=True)\n",
       "              (LayerNorm): LayerNorm((1024,), eps=1e-12, elementwise_affine=True)\n",
       "              (dropout): Dropout(p=0.1, inplace=False)\n",
       "            )\n",
       "          )\n",
       "          (intermediate): BertIntermediate(\n",
       "            (dense): Linear(in_features=1024, out_features=4096, bias=True)\n",
       "            (intermediate_act_fn): GELUActivation()\n",
       "          )\n",
       "          (output): BertOutput(\n",
       "            (dense): Linear(in_features=4096, out_features=1024, bias=True)\n",
       "            (LayerNorm): LayerNorm((1024,), eps=1e-12, elementwise_affine=True)\n",
       "            (dropout): Dropout(p=0.1, inplace=False)\n",
       "          )\n",
       "        )\n",
       "      )\n",
       "    )\n",
       "    (pooler): BertPooler(\n",
       "      (dense): Linear(in_features=1024, out_features=1024, bias=True)\n",
       "      (activation): Tanh()\n",
       "    )\n",
       "  )\n",
       "  (dropout): Dropout(p=0.1, inplace=False)\n",
       "  (classifier): Linear(in_features=1024, out_features=4, bias=True)\n",
       ")"
      ]
     },
     "execution_count": 28,
     "metadata": {},
     "output_type": "execute_result"
    }
   ],
   "source": [
    "tokenized_test = test.map(tokenize_func, batched=True)\n",
    "tokenized_test.set_format(\"torch\", columns=[\"input_ids\", \"attention_mask\", 'token_type_ids', \"labels\"])\n",
    "\n",
    "\n",
    "device = torch.device(\"cuda\" if torch.cuda.is_available() else \"cpu\")\n",
    "model.to(device)\n",
    "model.eval()  "
   ]
  },
  {
   "cell_type": "code",
   "execution_count": 29,
   "metadata": {},
   "outputs": [],
   "source": [
    "#predicting\n",
    "def predict(texts, model, tokenizer, device):\n",
    "    inputs = tokenizer(texts, padding=True, truncation=True, max_length=512, return_tensors=\"pt\")\n",
    "    inputs = {k: v.to(device) for k, v in inputs.items()}\n",
    "    with torch.no_grad():\n",
    "        outputs = model(**inputs)\n",
    "    return outputs.logits.cpu().numpy()"
   ]
  },
  {
   "cell_type": "code",
   "execution_count": 30,
   "metadata": {},
   "outputs": [],
   "source": [
    "all_predictions = []\n",
    "all_labels = []\n",
    "batch_size = 8  \n",
    "\n",
    "for i in range(0, len(test), batch_size):\n",
    "    batch = test[i:i+batch_size]\n",
    "    batch_texts = batch['Input']\n",
    "    batch_predictions = predict(batch_texts, model, tokenizer, device)\n",
    "    all_predictions.extend(batch_predictions)\n",
    "    all_labels.extend(batch['labels'])"
   ]
  },
  {
   "cell_type": "code",
   "execution_count": 31,
   "metadata": {},
   "outputs": [],
   "source": [
    "all_predictions = np.array(all_predictions)\n",
    "all_labels = np.array(all_labels)"
   ]
  },
  {
   "cell_type": "code",
   "execution_count": 32,
   "metadata": {},
   "outputs": [],
   "source": [
    "from scipy.special import softmax\n",
    "# Apply softmax to predictions\n",
    "softmax_predictions = softmax(all_predictions, axis=1)"
   ]
  },
  {
   "cell_type": "code",
   "execution_count": 33,
   "metadata": {},
   "outputs": [],
   "source": [
    "df_test = test.to_pandas()"
   ]
  },
  {
   "cell_type": "code",
   "execution_count": 35,
   "metadata": {},
   "outputs": [],
   "source": [
    "#collecting predicted scores and normalized predicted scores with softmax\n",
    "df_test['Predicted_scores'] = all_predictions.tolist()\n",
    "df_test['Predicted_Softmax_scores'] = softmax_predictions.tolist()"
   ]
  },
  {
   "cell_type": "code",
   "execution_count": 36,
   "metadata": {},
   "outputs": [],
   "source": [
    "df_test['predicted_labels'] = df_test['Predicted_scores'].apply(lambda x: x.index(max(x)))\n",
    "df_test['predicted_softmax_labels'] = df_test['Predicted_Softmax_scores'].apply(lambda x: x.index(max(x)))"
   ]
  },
  {
   "cell_type": "code",
   "execution_count": 37,
   "metadata": {},
   "outputs": [],
   "source": [
    "from datasets import Dataset\n",
    "test = Dataset.from_pandas(df_test) "
   ]
  },
  {
   "cell_type": "code",
   "execution_count": 40,
   "metadata": {},
   "outputs": [
    {
     "data": {
      "text/html": [
       "<div>\n",
       "<style scoped>\n",
       "    .dataframe tbody tr th:only-of-type {\n",
       "        vertical-align: middle;\n",
       "    }\n",
       "\n",
       "    .dataframe tbody tr th {\n",
       "        vertical-align: top;\n",
       "    }\n",
       "\n",
       "    .dataframe thead th {\n",
       "        text-align: right;\n",
       "    }\n",
       "</style>\n",
       "<table border=\"1\" class=\"dataframe\">\n",
       "  <thead>\n",
       "    <tr style=\"text-align: right;\">\n",
       "      <th></th>\n",
       "      <th>Unnamed: 0</th>\n",
       "      <th>docID</th>\n",
       "      <th>Query</th>\n",
       "      <th>docTitle</th>\n",
       "      <th>doc</th>\n",
       "      <th>Input</th>\n",
       "      <th>labels</th>\n",
       "      <th>majority_label</th>\n",
       "      <th>label_index</th>\n",
       "      <th>soft_labels</th>\n",
       "      <th>Predicted_scores</th>\n",
       "      <th>Predicted_Softmax_scores</th>\n",
       "      <th>predicted_labels</th>\n",
       "      <th>predicted_softmax_labels</th>\n",
       "    </tr>\n",
       "  </thead>\n",
       "  <tbody>\n",
       "    <tr>\n",
       "      <th>0</th>\n",
       "      <td>0</td>\n",
       "      <td>1s54q9r</td>\n",
       "      <td>Should Social Security Be Privatized?</td>\n",
       "      <td>Social Security: Why America Can and Should Al...</td>\n",
       "      <td>The debate surrounding the privatization of So...</td>\n",
       "      <td>Should Social Security Be Privatized? Social S...</td>\n",
       "      <td>['Pro', 'Pro', 'Pro']</td>\n",
       "      <td>Pro</td>\n",
       "      <td>[0, 0, 0]</td>\n",
       "      <td>[0.9 0.  0.  0. ]</td>\n",
       "      <td>[0.26883867 0.94456095 0.32207608 0.12423708]</td>\n",
       "      <td>[0.20468739 0.40230322 0.21587968 0.17712969]</td>\n",
       "      <td>1</td>\n",
       "      <td>1</td>\n",
       "    </tr>\n",
       "    <tr>\n",
       "      <th>1</th>\n",
       "      <td>1</td>\n",
       "      <td>2s28q5r</td>\n",
       "      <td>Can Alternative Energy Effectively Replace Fos...</td>\n",
       "      <td>Trump’s speech ignored global warming and clim...</td>\n",
       "      <td>In 2018, the U.S. witnessed significant weathe...</td>\n",
       "      <td>Can Alternative Energy Effectively Replace Fos...</td>\n",
       "      <td>['Pro', 'Pro', 'Pro']</td>\n",
       "      <td>Pro</td>\n",
       "      <td>[2, 2, 2]</td>\n",
       "      <td>[0.9 0.  0.  0. ]</td>\n",
       "      <td>[ 1.50775719 -0.40722397  0.03725779 -0.45741957]</td>\n",
       "      <td>[0.65907133 0.09711061 0.15146163 0.09235639]</td>\n",
       "      <td>0</td>\n",
       "      <td>0</td>\n",
       "    </tr>\n",
       "    <tr>\n",
       "      <th>2</th>\n",
       "      <td>2</td>\n",
       "      <td>2s39q1r</td>\n",
       "      <td>Should the United States Maintain Its Embargo ...</td>\n",
       "      <td>Cuba: Trouble in Paradise | Havana Times</td>\n",
       "      <td>The article examines the economic status and c...</td>\n",
       "      <td>Should the United States Maintain Its Embargo ...</td>\n",
       "      <td>['Against', 'Neutral', 'Against']</td>\n",
       "      <td>Against</td>\n",
       "      <td>[3, 3, 3]</td>\n",
       "      <td>[0.1 0.6 0.2 0.1]</td>\n",
       "      <td>[-0.23275764  0.21257548  1.02882206  0.23093361]</td>\n",
       "      <td>[0.1301755  0.20320526 0.45964906 0.2069702 ]</td>\n",
       "      <td>2</td>\n",
       "      <td>2</td>\n",
       "    </tr>\n",
       "    <tr>\n",
       "      <th>3</th>\n",
       "      <td>3</td>\n",
       "      <td>1s52q3r</td>\n",
       "      <td>Should the United States Return to a Gold Stan...</td>\n",
       "      <td>Maduro calls for return of Venezuela's UK-depo...</td>\n",
       "      <td>Caracas (AFP) - Venezuela President Nicolas Ma...</td>\n",
       "      <td>Should the United States Return to a Gold Stan...</td>\n",
       "      <td>['Not-about', 'Not-about', 'Not-about']</td>\n",
       "      <td>Not-about</td>\n",
       "      <td>[2, 2, 0]</td>\n",
       "      <td>[0.  0.  0.  0.9]</td>\n",
       "      <td>[-0.32070804 -0.24343689  0.90611458 -0.06835756]</td>\n",
       "      <td>[0.14754142 0.15939415 0.50317174 0.18989272]</td>\n",
       "      <td>2</td>\n",
       "      <td>2</td>\n",
       "    </tr>\n",
       "    <tr>\n",
       "      <th>4</th>\n",
       "      <td>4</td>\n",
       "      <td>2s8q3r</td>\n",
       "      <td>Is Obesity a Disease?</td>\n",
       "      <td>Treatment for obesity and fatty liver disease ...</td>\n",
       "      <td>Professor Amiram Goldblum and his team at the ...</td>\n",
       "      <td>Is Obesity a Disease? Treatment for obesity an...</td>\n",
       "      <td>['Pro', 'Not-about', 'Not-about']</td>\n",
       "      <td>Not-about</td>\n",
       "      <td>[2, 2, 2]</td>\n",
       "      <td>[0.2 0.1 0.1 0.6]</td>\n",
       "      <td>[ 0.55524915 -0.13133954  0.01513     0.84196126]</td>\n",
       "      <td>[0.29256797 0.14724652 0.17047316 0.38971242]</td>\n",
       "      <td>3</td>\n",
       "      <td>3</td>\n",
       "    </tr>\n",
       "    <tr>\n",
       "      <th>...</th>\n",
       "      <td>...</td>\n",
       "      <td>...</td>\n",
       "      <td>...</td>\n",
       "      <td>...</td>\n",
       "      <td>...</td>\n",
       "      <td>...</td>\n",
       "      <td>...</td>\n",
       "      <td>...</td>\n",
       "      <td>...</td>\n",
       "      <td>...</td>\n",
       "      <td>...</td>\n",
       "      <td>...</td>\n",
       "      <td>...</td>\n",
       "      <td>...</td>\n",
       "    </tr>\n",
       "    <tr>\n",
       "      <th>134</th>\n",
       "      <td>134</td>\n",
       "      <td>1s48q7r</td>\n",
       "      <td>Are the Olympic Games an Overall Benefit for T...</td>\n",
       "      <td>Business of the Olympics - InvestorGuide.com</td>\n",
       "      <td>With this year’s Rio Olympics beginning, the b...</td>\n",
       "      <td>Are the Olympic Games an Overall Benefit for T...</td>\n",
       "      <td>['Neutral', 'Pro', 'Pro']</td>\n",
       "      <td>Pro</td>\n",
       "      <td>[2, 2, 2]</td>\n",
       "      <td>[0.6 0.1 0.2 0.1]</td>\n",
       "      <td>[ 0.85651225  0.02331866 -0.26639318  0.58874345]</td>\n",
       "      <td>[0.39602754 0.17213692 0.12884089 0.30299458]</td>\n",
       "      <td>0</td>\n",
       "      <td>0</td>\n",
       "    </tr>\n",
       "    <tr>\n",
       "      <th>135</th>\n",
       "      <td>135</td>\n",
       "      <td>2s21q4r</td>\n",
       "      <td>Should the Drinking Age Be Lowered from 21 to ...</td>\n",
       "      <td>Lena Dunham's Comments Defending Jordyn Woods ...</td>\n",
       "      <td>Amid all the cheating rumors surrounding Jordy...</td>\n",
       "      <td>Should the Drinking Age Be Lowered from 21 to ...</td>\n",
       "      <td>['Not-about', 'Not-about', 'Not-about']</td>\n",
       "      <td>Not-about</td>\n",
       "      <td>[1, 1]</td>\n",
       "      <td>[0.  0.  0.  0.9]</td>\n",
       "      <td>[-0.21372491  0.22113684  0.93482476  0.45593455]</td>\n",
       "      <td>[0.13068587 0.20187694 0.41213301 0.25530422]</td>\n",
       "      <td>2</td>\n",
       "      <td>2</td>\n",
       "    </tr>\n",
       "    <tr>\n",
       "      <th>136</th>\n",
       "      <td>136</td>\n",
       "      <td>2s7q8r</td>\n",
       "      <td>Should People Become Vegetarian?</td>\n",
       "      <td>Vegetarian man devastated after accidentally e...</td>\n",
       "      <td>Pizza Hut has apologisedA man who has never ea...</td>\n",
       "      <td>Should People Become Vegetarian? Vegetarian ma...</td>\n",
       "      <td>['Neutral', 'Neutral', 'Not-about']</td>\n",
       "      <td>Neutral</td>\n",
       "      <td>[1, 1, 1]</td>\n",
       "      <td>[0.1 0.1 0.6 0.2]</td>\n",
       "      <td>[-0.56536305  0.18483636  1.13705373  0.32933161]</td>\n",
       "      <td>[0.09048788 0.19160107 0.49652445 0.22138663]</td>\n",
       "      <td>2</td>\n",
       "      <td>2</td>\n",
       "    </tr>\n",
       "    <tr>\n",
       "      <th>137</th>\n",
       "      <td>137</td>\n",
       "      <td>2s20q5r</td>\n",
       "      <td>Should Parents or Other Adults Be Able to Ban ...</td>\n",
       "      <td>Community Montessori’s 100th day of school: Ki...</td>\n",
       "      <td>Hi Already a subscriber?Subscribe today for fu...</td>\n",
       "      <td>Should Parents or Other Adults Be Able to Ban ...</td>\n",
       "      <td>['Not-about', 'Not-about', 'Neutral']</td>\n",
       "      <td>Not-about</td>\n",
       "      <td>[1, 2, 1]</td>\n",
       "      <td>[0.1 0.1 0.2 0.6]</td>\n",
       "      <td>[-0.15691513 -0.14465177  0.72674149 -0.00257615]</td>\n",
       "      <td>[0.17860469 0.18080847 0.43217543 0.20841138]</td>\n",
       "      <td>2</td>\n",
       "      <td>2</td>\n",
       "    </tr>\n",
       "    <tr>\n",
       "      <th>138</th>\n",
       "      <td>138</td>\n",
       "      <td>2s31q8r</td>\n",
       "      <td>Should Police Officers Wear Body Cameras?</td>\n",
       "      <td>Houston Police Chief Announces Plan to End No-...</td>\n",
       "      <td>After a January raid left two dead and five of...</td>\n",
       "      <td>Should Police Officers Wear Body Cameras? Hous...</td>\n",
       "      <td>['Pro', 'Pro', 'Neutral']</td>\n",
       "      <td>Pro</td>\n",
       "      <td>[0, 0, 0]</td>\n",
       "      <td>[0.6 0.1 0.2 0.1]</td>\n",
       "      <td>[0.36674413 0.89298874 0.16561766 0.21601482]</td>\n",
       "      <td>[0.22880919 0.38727424 0.18712223 0.19679433]</td>\n",
       "      <td>1</td>\n",
       "      <td>1</td>\n",
       "    </tr>\n",
       "  </tbody>\n",
       "</table>\n",
       "<p>139 rows × 14 columns</p>\n",
       "</div>"
      ],
      "text/plain": [
       "     Unnamed: 0    docID                                              Query  \\\n",
       "0             0  1s54q9r              Should Social Security Be Privatized?   \n",
       "1             1  2s28q5r  Can Alternative Energy Effectively Replace Fos...   \n",
       "2             2  2s39q1r  Should the United States Maintain Its Embargo ...   \n",
       "3             3  1s52q3r  Should the United States Return to a Gold Stan...   \n",
       "4             4   2s8q3r                              Is Obesity a Disease?   \n",
       "..          ...      ...                                                ...   \n",
       "134         134  1s48q7r  Are the Olympic Games an Overall Benefit for T...   \n",
       "135         135  2s21q4r  Should the Drinking Age Be Lowered from 21 to ...   \n",
       "136         136   2s7q8r                   Should People Become Vegetarian?   \n",
       "137         137  2s20q5r  Should Parents or Other Adults Be Able to Ban ...   \n",
       "138         138  2s31q8r          Should Police Officers Wear Body Cameras?   \n",
       "\n",
       "                                              docTitle  \\\n",
       "0    Social Security: Why America Can and Should Al...   \n",
       "1    Trump’s speech ignored global warming and clim...   \n",
       "2             Cuba: Trouble in Paradise | Havana Times   \n",
       "3    Maduro calls for return of Venezuela's UK-depo...   \n",
       "4    Treatment for obesity and fatty liver disease ...   \n",
       "..                                                 ...   \n",
       "134       Business of the Olympics - InvestorGuide.com   \n",
       "135  Lena Dunham's Comments Defending Jordyn Woods ...   \n",
       "136  Vegetarian man devastated after accidentally e...   \n",
       "137  Community Montessori’s 100th day of school: Ki...   \n",
       "138  Houston Police Chief Announces Plan to End No-...   \n",
       "\n",
       "                                                   doc  \\\n",
       "0    The debate surrounding the privatization of So...   \n",
       "1    In 2018, the U.S. witnessed significant weathe...   \n",
       "2    The article examines the economic status and c...   \n",
       "3    Caracas (AFP) - Venezuela President Nicolas Ma...   \n",
       "4    Professor Amiram Goldblum and his team at the ...   \n",
       "..                                                 ...   \n",
       "134  With this year’s Rio Olympics beginning, the b...   \n",
       "135  Amid all the cheating rumors surrounding Jordy...   \n",
       "136  Pizza Hut has apologisedA man who has never ea...   \n",
       "137  Hi Already a subscriber?Subscribe today for fu...   \n",
       "138  After a January raid left two dead and five of...   \n",
       "\n",
       "                                                 Input  \\\n",
       "0    Should Social Security Be Privatized? Social S...   \n",
       "1    Can Alternative Energy Effectively Replace Fos...   \n",
       "2    Should the United States Maintain Its Embargo ...   \n",
       "3    Should the United States Return to a Gold Stan...   \n",
       "4    Is Obesity a Disease? Treatment for obesity an...   \n",
       "..                                                 ...   \n",
       "134  Are the Olympic Games an Overall Benefit for T...   \n",
       "135  Should the Drinking Age Be Lowered from 21 to ...   \n",
       "136  Should People Become Vegetarian? Vegetarian ma...   \n",
       "137  Should Parents or Other Adults Be Able to Ban ...   \n",
       "138  Should Police Officers Wear Body Cameras? Hous...   \n",
       "\n",
       "                                      labels majority_label label_index  \\\n",
       "0                      ['Pro', 'Pro', 'Pro']            Pro   [0, 0, 0]   \n",
       "1                      ['Pro', 'Pro', 'Pro']            Pro   [2, 2, 2]   \n",
       "2          ['Against', 'Neutral', 'Against']        Against   [3, 3, 3]   \n",
       "3    ['Not-about', 'Not-about', 'Not-about']      Not-about   [2, 2, 0]   \n",
       "4          ['Pro', 'Not-about', 'Not-about']      Not-about   [2, 2, 2]   \n",
       "..                                       ...            ...         ...   \n",
       "134                ['Neutral', 'Pro', 'Pro']            Pro   [2, 2, 2]   \n",
       "135  ['Not-about', 'Not-about', 'Not-about']      Not-about      [1, 1]   \n",
       "136      ['Neutral', 'Neutral', 'Not-about']        Neutral   [1, 1, 1]   \n",
       "137    ['Not-about', 'Not-about', 'Neutral']      Not-about   [1, 2, 1]   \n",
       "138                ['Pro', 'Pro', 'Neutral']            Pro   [0, 0, 0]   \n",
       "\n",
       "           soft_labels                                   Predicted_scores  \\\n",
       "0    [0.9 0.  0.  0. ]      [0.26883867 0.94456095 0.32207608 0.12423708]   \n",
       "1    [0.9 0.  0.  0. ]  [ 1.50775719 -0.40722397  0.03725779 -0.45741957]   \n",
       "2    [0.1 0.6 0.2 0.1]  [-0.23275764  0.21257548  1.02882206  0.23093361]   \n",
       "3    [0.  0.  0.  0.9]  [-0.32070804 -0.24343689  0.90611458 -0.06835756]   \n",
       "4    [0.2 0.1 0.1 0.6]  [ 0.55524915 -0.13133954  0.01513     0.84196126]   \n",
       "..                 ...                                                ...   \n",
       "134  [0.6 0.1 0.2 0.1]  [ 0.85651225  0.02331866 -0.26639318  0.58874345]   \n",
       "135  [0.  0.  0.  0.9]  [-0.21372491  0.22113684  0.93482476  0.45593455]   \n",
       "136  [0.1 0.1 0.6 0.2]  [-0.56536305  0.18483636  1.13705373  0.32933161]   \n",
       "137  [0.1 0.1 0.2 0.6]  [-0.15691513 -0.14465177  0.72674149 -0.00257615]   \n",
       "138  [0.6 0.1 0.2 0.1]      [0.36674413 0.89298874 0.16561766 0.21601482]   \n",
       "\n",
       "                          Predicted_Softmax_scores  predicted_labels  \\\n",
       "0    [0.20468739 0.40230322 0.21587968 0.17712969]                 1   \n",
       "1    [0.65907133 0.09711061 0.15146163 0.09235639]                 0   \n",
       "2    [0.1301755  0.20320526 0.45964906 0.2069702 ]                 2   \n",
       "3    [0.14754142 0.15939415 0.50317174 0.18989272]                 2   \n",
       "4    [0.29256797 0.14724652 0.17047316 0.38971242]                 3   \n",
       "..                                             ...               ...   \n",
       "134  [0.39602754 0.17213692 0.12884089 0.30299458]                 0   \n",
       "135  [0.13068587 0.20187694 0.41213301 0.25530422]                 2   \n",
       "136  [0.09048788 0.19160107 0.49652445 0.22138663]                 2   \n",
       "137  [0.17860469 0.18080847 0.43217543 0.20841138]                 2   \n",
       "138  [0.22880919 0.38727424 0.18712223 0.19679433]                 1   \n",
       "\n",
       "     predicted_softmax_labels  \n",
       "0                           1  \n",
       "1                           0  \n",
       "2                           2  \n",
       "3                           2  \n",
       "4                           3  \n",
       "..                        ...  \n",
       "134                         0  \n",
       "135                         2  \n",
       "136                         2  \n",
       "137                         2  \n",
       "138                         1  \n",
       "\n",
       "[139 rows x 14 columns]"
      ]
     },
     "execution_count": 40,
     "metadata": {},
     "output_type": "execute_result"
    }
   ],
   "source": [
    "#test file\n",
    "m_test"
   ]
  },
  {
   "cell_type": "code",
   "execution_count": 41,
   "metadata": {},
   "outputs": [],
   "source": [
    "label_ecnoding_multip = {'Pro': 0,\n",
    "'Against': 1,\n",
    "'Neutral': 2,\n",
    "'Not-about': 3,}\n",
    "\n",
    "\n",
    "m_test['true_labels'] = m_test['majority_label'].map(label_ecnoding_multip) "
   ]
  },
  {
   "cell_type": "code",
   "execution_count": 42,
   "metadata": {},
   "outputs": [
    {
     "name": "stdout",
     "output_type": "stream",
     "text": [
      "Accuracy: 46.76258992805755\n",
      "Precision: 46.88025938025938\n",
      "Recall: 47.16486233627372\n",
      "F1 Score: 46.751735431792824\n",
      "Confusion Matrix:\n",
      "[[19  9 13  2]\n",
      " [ 6 17  4  2]\n",
      " [11  6 19  7]\n",
      " [ 3  5  6 10]]\n",
      "Classification Report:\n",
      "              precision    recall  f1-score   support\n",
      "\n",
      "           0       0.49      0.44      0.46        43\n",
      "           1       0.46      0.59      0.52        29\n",
      "           2       0.45      0.44      0.45        43\n",
      "           3       0.48      0.42      0.44        24\n",
      "\n",
      "    accuracy                           0.47       139\n",
      "   macro avg       0.47      0.47      0.47       139\n",
      "weighted avg       0.47      0.47      0.47       139\n",
      "\n",
      "Average Confidence Score: 45.82185447216034\n",
      "Average Confidence for Correct Predictions: 47.3630455824045\n",
      "Average Confidence for Incorrect Predictions: 44.46810850420514\n"
     ]
    }
   ],
   "source": [
    "#calculation confidence and classification metrics (accuracy, precision, recall, f1, confusion matrix)\n",
    "\n",
    "from sklearn.metrics import classification_report, accuracy_score, precision_score, recall_score, f1_score, confusion_matrix\n",
    "\n",
    "def calculate_confidences(df, model, tokenizer):\n",
    "    \"\"\"\n",
    "    Calculate confidence scores and update the DataFrame with a new column.\n",
    "    \n",
    "    Args:\n",
    "    - df: DataFrame with input data\n",
    "    - model: Trained model with a method to get logits\n",
    "    - tokenizer: Tokenizer to preprocess text\n",
    "    \n",
    "    Returns:\n",
    "    - df: Updated DataFrame with a 'confidence_scores' column\n",
    "    \"\"\"\n",
    "    confidences = []\n",
    "\n",
    "    model.eval()  \n",
    "\n",
    "    for index, row in df.iterrows():\n",
    "        text = row['Input']  \n",
    "        \n",
    "    \n",
    "        inputs = tokenizer(text, return_tensors=\"pt\", truncation=True, padding=True).to(model.device)\n",
    "        \n",
    "        with torch.no_grad():\n",
    "            logits = model(**inputs).logits\n",
    "            probabilities = F.softmax(logits, dim=-1) \n",
    "            probabilities = probabilities.cpu().numpy().flatten()  \n",
    "            \n",
    "        \n",
    "            max_prob = np.max(probabilities)\n",
    "            confidences.append(max_prob)\n",
    "    \n",
    "\n",
    "    df['confidence_scores'] = confidences\n",
    "    return df\n",
    "\n",
    "\n",
    "m_test = calculate_confidences(m_test, model, tokenizer)\n",
    "\n",
    "\n",
    "y_true = m_test['true_labels']\n",
    "y_pred = m_test['predicted_labels']\n",
    "confidence_scores = m_test['confidence_scores']\n",
    "\n",
    "# Accuracy\n",
    "accuracy = accuracy_score(y_true, y_pred)\n",
    "print(\"Accuracy:\", accuracy * 100)\n",
    "\n",
    "# Precision\n",
    "precision = precision_score(y_true, y_pred, average='macro')  # 'macro' averaging for multiclass\n",
    "print(\"Precision:\", precision * 100)\n",
    "\n",
    "# Recall\n",
    "recall = recall_score(y_true, y_pred, average='macro')  # 'macro' averaging for multiclass\n",
    "print(\"Recall:\", recall * 100)\n",
    "\n",
    "# F1 Score\n",
    "f1 = f1_score(y_true, y_pred, average='macro')  # 'macro' averaging for multiclass\n",
    "print(\"F1 Score:\", f1 * 100)\n",
    "\n",
    "# Confusion Matrix\n",
    "conf_matrix = confusion_matrix(y_true, y_pred)\n",
    "print(\"Confusion Matrix:\")\n",
    "print(conf_matrix)\n",
    "\n",
    "# Classification Report\n",
    "class_report = classification_report(y_true, y_pred)\n",
    "print(\"Classification Report:\")\n",
    "print(class_report)\n",
    "\n",
    "# Average Confidence Score\n",
    "avg_confidence = np.mean(confidence_scores)\n",
    "print(\"Average Confidence Score:\", avg_confidence * 100)\n",
    "\n",
    "# Confidence for Correct and Incorrect Predictions\n",
    "correct_confidence = np.mean([confidence for pred, true, confidence in zip(y_pred, y_true, confidence_scores) if pred == true])\n",
    "incorrect_confidence = np.mean([confidence for pred, true, confidence in zip(y_pred, y_true, confidence_scores) if pred != true])\n",
    "\n",
    "print(\"Average Confidence for Correct Predictions:\", correct_confidence * 100)\n",
    "print(\"Average Confidence for Incorrect Predictions:\", incorrect_confidence * 100)"
   ]
  },
  {
   "cell_type": "code",
   "execution_count": 43,
   "metadata": {},
   "outputs": [],
   "source": [
    "#soft loss function\n",
    "\n",
    "def softmax(logits):\n",
    "    \"\"\"\n",
    "    Compute softmax probabilities from logits.\n",
    "    \n",
    "    Parameters:\n",
    "    - logits: A numpy array of shape (n, num_classes) containing the logits.\n",
    "    \n",
    "    Returns:\n",
    "    - probabilities: A numpy array of shape (n, num_classes) containing the softmax probabilities.\n",
    "    \"\"\"\n",
    "    exp_logits = np.exp(logits - np.max(logits, axis=1, keepdims=True))\n",
    "    return exp_logits / np.sum(exp_logits, axis=1, keepdims=True)\n",
    "\n",
    "def soft_loss_function(true_probabilities, predicted_logits):\n",
    "    \"\"\"\n",
    "    Compute the soft loss function (cross-entropy with soft labels) using PyTorch tensors.\n",
    "    \n",
    "    Parameters:\n",
    "    - true_probabilities: A PyTorch tensor of shape (n, num_classes) containing the true probability distributions.\n",
    "    - predicted_logits: A PyTorch tensor of shape (n, num_classes) containing the logits from the model.\n",
    "    \n",
    "    Returns:\n",
    "    - loss: The computed soft loss.\n",
    "    \"\"\"\n",
    "\n",
    "    predicted_probabilities = torch.nn.functional.softmax(predicted_logits, dim=-1)\n",
    "    \n",
    "  \n",
    "    epsilon = 1e-15\n",
    "    predicted_probabilities = torch.clamp(predicted_probabilities, epsilon, 1. - epsilon)\n",
    "    \n",
    " \n",
    "    loss = -torch.sum(true_probabilities * torch.log(predicted_probabilities))\n",
    "    \n",
    "    return loss\n",
    "\n",
    "class TemperatureScalingCalibration(nn.Module):\n",
    "    def __init__(self, model_path: str, tokenizer, device: torch.device):\n",
    "        super().__init__()\n",
    "        self.model_path = model_path\n",
    "        self.model = AutoModelForSequenceClassification.from_pretrained(model_path)\n",
    "        self.tokenizer = tokenizer\n",
    "        self.device = device\n",
    "\n",
    "       \n",
    "        self.temperature = nn.Parameter(torch.ones(1)) \n",
    "        \n",
    "        self.model.to(self.device)\n",
    "        self.temperature.to(self.device)\n",
    "\n",
    "    def forward(self, input_ids, attention_mask):\n",
    "        \"\"\"Forward method that returns softmax-ed confidence scores.\"\"\"\n",
    "        logits = self.forward_logit(input_ids, attention_mask)\n",
    "        scaled_logits = logits / self.temperature\n",
    "        scores = nn.functional.softmax(scaled_logits, dim=-1)\n",
    "        return scores\n",
    "\n",
    "    def forward_logit(self, input_ids, attention_mask):\n",
    "        \"\"\"Forward method that returns logits, to be used with cross-entropy loss.\"\"\"\n",
    "        outputs = self.model(\n",
    "            input_ids=input_ids,\n",
    "            attention_mask=attention_mask,\n",
    "        ).logits\n",
    "        return outputs\n",
    "\n",
    "    def fit(self, dataset_tokenized, n_epochs: int = 3, batch_size: int = 64, lr: float = 0.01):\n",
    "        \"\"\"Fits the temperature scaling parameter.\"\"\"\n",
    "        data_collator = DataCollatorWithPadding(self.tokenizer, padding=True)\n",
    "        data_loader = DataLoader(dataset_tokenized, collate_fn=data_collator, batch_size=batch_size)\n",
    "\n",
    "        self.freeze_base_model()\n",
    "      \n",
    "      \n",
    "        optimizer = optim.SGD(self.parameters(), lr=lr)\n",
    "\n",
    "      \n",
    "        self.train()\n",
    "\n",
    "        for epoch in trange(n_epochs):\n",
    "            epoch_loss = 0.0\n",
    "            for examples in data_loader:\n",
    "            \n",
    "                input_ids = examples['input_ids'].to(self.device)\n",
    "                attention_mask = examples['attention_mask'].to(self.device)\n",
    "                soft_labels = examples['labels'].to(self.device)  \n",
    "                \n",
    "                \n",
    "                self.zero_grad()\n",
    "                logits = self.forward_logit(input_ids, attention_mask)\n",
    "                \n",
    "             \n",
    "                scaled_logits = logits / self.temperature\n",
    "                \n",
    "            \n",
    "                loss = soft_loss_function(soft_labels, scaled_logits)\n",
    "                loss.backward()\n",
    "                optimizer.step()\n",
    "\n",
    "             \n",
    "                epoch_loss += loss.item() * input_ids.size(0)\n",
    "\n",
    "       \n",
    "            print(f\"Epoch {epoch+1}/{n_epochs}, Loss: {epoch_loss / len(dataset_tokenized)}\")\n",
    "\n",
    "        return self\n",
    "\n",
    "    def freeze_base_model(self):\n",
    "        \n",
    "        self.model.eval()\n",
    "        for parameter in self.model.parameters():\n",
    "            parameter.requires_grad = False\n",
    "\n",
    "        return self"
   ]
  },
  {
   "cell_type": "code",
   "execution_count": 45,
   "metadata": {},
   "outputs": [
    {
     "data": {
      "text/plain": [
       "('./multiclassification/bert-large-uncased/results/human/tokenizer_config.json',\n",
       " './multiclassification/bert-large-uncased/results/human/special_tokens_map.json',\n",
       " './multiclassification/bert-large-uncased/results/human/vocab.txt',\n",
       " './multiclassification/bert-large-uncased/results/human/added_tokens.json',\n",
       " './multiclassification/bert-large-uncased/results/human/tokenizer.json')"
      ]
     },
     "execution_count": 45,
     "metadata": {},
     "output_type": "execute_result"
    }
   ],
   "source": [
    "model.save_pretrained(output_dir)\n",
    "tokenizer.save_pretrained(output_dir) "
   ]
  },
  {
   "cell_type": "code",
   "execution_count": 46,
   "metadata": {},
   "outputs": [
    {
     "data": {
      "text/plain": [
       "TemperatureScalingCalibration(\n",
       "  (model): BertForSequenceClassification(\n",
       "    (bert): BertModel(\n",
       "      (embeddings): BertEmbeddings(\n",
       "        (word_embeddings): Embedding(30522, 1024, padding_idx=0)\n",
       "        (position_embeddings): Embedding(512, 1024)\n",
       "        (token_type_embeddings): Embedding(2, 1024)\n",
       "        (LayerNorm): LayerNorm((1024,), eps=1e-12, elementwise_affine=True)\n",
       "        (dropout): Dropout(p=0.1, inplace=False)\n",
       "      )\n",
       "      (encoder): BertEncoder(\n",
       "        (layer): ModuleList(\n",
       "          (0-23): 24 x BertLayer(\n",
       "            (attention): BertAttention(\n",
       "              (self): BertSdpaSelfAttention(\n",
       "                (query): Linear(in_features=1024, out_features=1024, bias=True)\n",
       "                (key): Linear(in_features=1024, out_features=1024, bias=True)\n",
       "                (value): Linear(in_features=1024, out_features=1024, bias=True)\n",
       "                (dropout): Dropout(p=0.1, inplace=False)\n",
       "              )\n",
       "              (output): BertSelfOutput(\n",
       "                (dense): Linear(in_features=1024, out_features=1024, bias=True)\n",
       "                (LayerNorm): LayerNorm((1024,), eps=1e-12, elementwise_affine=True)\n",
       "                (dropout): Dropout(p=0.1, inplace=False)\n",
       "              )\n",
       "            )\n",
       "            (intermediate): BertIntermediate(\n",
       "              (dense): Linear(in_features=1024, out_features=4096, bias=True)\n",
       "              (intermediate_act_fn): GELUActivation()\n",
       "            )\n",
       "            (output): BertOutput(\n",
       "              (dense): Linear(in_features=4096, out_features=1024, bias=True)\n",
       "              (LayerNorm): LayerNorm((1024,), eps=1e-12, elementwise_affine=True)\n",
       "              (dropout): Dropout(p=0.1, inplace=False)\n",
       "            )\n",
       "          )\n",
       "        )\n",
       "      )\n",
       "      (pooler): BertPooler(\n",
       "        (dense): Linear(in_features=1024, out_features=1024, bias=True)\n",
       "        (activation): Tanh()\n",
       "      )\n",
       "    )\n",
       "    (dropout): Dropout(p=0.1, inplace=False)\n",
       "    (classifier): Linear(in_features=1024, out_features=4, bias=True)\n",
       "  )\n",
       ")"
      ]
     },
     "execution_count": 46,
     "metadata": {},
     "output_type": "execute_result"
    }
   ],
   "source": [
    "device = torch.device(\"cuda\" if torch.cuda.is_available() else \"cpu\")\n",
    "calibration_module = TemperatureScalingCalibration(model_path=output_dir, tokenizer=tokenizer, device=device)\n",
    "calibration_module.to(device) "
   ]
  },
  {
   "cell_type": "code",
   "execution_count": 47,
   "metadata": {},
   "outputs": [],
   "source": [
    "def tokenize_func(examples):\n",
    "    # Tokenize the input text and map the 'soft_labels' column to 'labels'\n",
    "    tokenized_inputs = tokenizer(examples['Input'], padding='max_length', truncation=True, max_length=512)\n",
    "    tokenized_inputs['labels'] = examples['soft_labels']  # Rename 'soft_labels' to 'labels'\n",
    "    return tokenized_inputs"
   ]
  },
  {
   "cell_type": "code",
   "execution_count": 48,
   "metadata": {},
   "outputs": [
    {
     "data": {
      "application/vnd.jupyter.widget-view+json": {
       "model_id": "5089d08dfe304c7cb5856622a89baeea",
       "version_major": 2,
       "version_minor": 0
      },
      "text/plain": [
       "Map:   0%|          | 0/139 [00:00<?, ? examples/s]"
      ]
     },
     "metadata": {},
     "output_type": "display_data"
    }
   ],
   "source": [
    "val_tokenized_cal = val.map(tokenize_func, batched = True) "
   ]
  },
  {
   "cell_type": "code",
   "execution_count": 49,
   "metadata": {},
   "outputs": [],
   "source": [
    "val_tokenized_cal.set_format('torch', columns = ['input_ids', 'attention_mask', 'labels'])"
   ]
  },
  {
   "cell_type": "code",
   "execution_count": 50,
   "metadata": {},
   "outputs": [
    {
     "name": "stderr",
     "output_type": "stream",
     "text": [
      " 17%|█▋        | 1/6 [00:03<00:19,  3.91s/it]"
     ]
    },
    {
     "name": "stdout",
     "output_type": "stream",
     "text": [
      "Epoch 1/6, Loss: 77.91530701067808\n"
     ]
    },
    {
     "name": "stderr",
     "output_type": "stream",
     "text": [
      " 33%|███▎      | 2/6 [00:07<00:15,  3.91s/it]"
     ]
    },
    {
     "name": "stdout",
     "output_type": "stream",
     "text": [
      "Epoch 2/6, Loss: 77.5023280493647\n"
     ]
    },
    {
     "name": "stderr",
     "output_type": "stream",
     "text": [
      " 50%|█████     | 3/6 [00:11<00:11,  3.91s/it]"
     ]
    },
    {
     "name": "stdout",
     "output_type": "stream",
     "text": [
      "Epoch 3/6, Loss: 77.3937425682013\n"
     ]
    },
    {
     "name": "stderr",
     "output_type": "stream",
     "text": [
      " 67%|██████▋   | 4/6 [00:15<00:07,  3.91s/it]"
     ]
    },
    {
     "name": "stdout",
     "output_type": "stream",
     "text": [
      "Epoch 4/6, Loss: 78.01580020849653\n"
     ]
    },
    {
     "name": "stderr",
     "output_type": "stream",
     "text": [
      " 83%|████████▎ | 5/6 [00:19<00:03,  3.92s/it]"
     ]
    },
    {
     "name": "stdout",
     "output_type": "stream",
     "text": [
      "Epoch 5/6, Loss: 78.29172865778422\n"
     ]
    },
    {
     "name": "stderr",
     "output_type": "stream",
     "text": [
      "100%|██████████| 6/6 [00:23<00:00,  3.92s/it]"
     ]
    },
    {
     "name": "stdout",
     "output_type": "stream",
     "text": [
      "Epoch 6/6, Loss: 77.63028305383037\n"
     ]
    },
    {
     "name": "stderr",
     "output_type": "stream",
     "text": [
      "\n"
     ]
    },
    {
     "data": {
      "text/plain": [
       "TemperatureScalingCalibration(\n",
       "  (model): BertForSequenceClassification(\n",
       "    (bert): BertModel(\n",
       "      (embeddings): BertEmbeddings(\n",
       "        (word_embeddings): Embedding(30522, 1024, padding_idx=0)\n",
       "        (position_embeddings): Embedding(512, 1024)\n",
       "        (token_type_embeddings): Embedding(2, 1024)\n",
       "        (LayerNorm): LayerNorm((1024,), eps=1e-12, elementwise_affine=True)\n",
       "        (dropout): Dropout(p=0.1, inplace=False)\n",
       "      )\n",
       "      (encoder): BertEncoder(\n",
       "        (layer): ModuleList(\n",
       "          (0-23): 24 x BertLayer(\n",
       "            (attention): BertAttention(\n",
       "              (self): BertSdpaSelfAttention(\n",
       "                (query): Linear(in_features=1024, out_features=1024, bias=True)\n",
       "                (key): Linear(in_features=1024, out_features=1024, bias=True)\n",
       "                (value): Linear(in_features=1024, out_features=1024, bias=True)\n",
       "                (dropout): Dropout(p=0.1, inplace=False)\n",
       "              )\n",
       "              (output): BertSelfOutput(\n",
       "                (dense): Linear(in_features=1024, out_features=1024, bias=True)\n",
       "                (LayerNorm): LayerNorm((1024,), eps=1e-12, elementwise_affine=True)\n",
       "                (dropout): Dropout(p=0.1, inplace=False)\n",
       "              )\n",
       "            )\n",
       "            (intermediate): BertIntermediate(\n",
       "              (dense): Linear(in_features=1024, out_features=4096, bias=True)\n",
       "              (intermediate_act_fn): GELUActivation()\n",
       "            )\n",
       "            (output): BertOutput(\n",
       "              (dense): Linear(in_features=4096, out_features=1024, bias=True)\n",
       "              (LayerNorm): LayerNorm((1024,), eps=1e-12, elementwise_affine=True)\n",
       "              (dropout): Dropout(p=0.1, inplace=False)\n",
       "            )\n",
       "          )\n",
       "        )\n",
       "      )\n",
       "      (pooler): BertPooler(\n",
       "        (dense): Linear(in_features=1024, out_features=1024, bias=True)\n",
       "        (activation): Tanh()\n",
       "      )\n",
       "    )\n",
       "    (dropout): Dropout(p=0.1, inplace=False)\n",
       "    (classifier): Linear(in_features=1024, out_features=4, bias=True)\n",
       "  )\n",
       ")"
      ]
     },
     "execution_count": 50,
     "metadata": {},
     "output_type": "execute_result"
    }
   ],
   "source": [
    "calibration_module.fit(val_tokenized_cal,n_epochs=6, batch_size=64, lr=0.01) "
   ]
  },
  {
   "cell_type": "code",
   "execution_count": 51,
   "metadata": {},
   "outputs": [
    {
     "data": {
      "text/plain": [
       "TemperatureScalingCalibration(\n",
       "  (model): BertForSequenceClassification(\n",
       "    (bert): BertModel(\n",
       "      (embeddings): BertEmbeddings(\n",
       "        (word_embeddings): Embedding(30522, 1024, padding_idx=0)\n",
       "        (position_embeddings): Embedding(512, 1024)\n",
       "        (token_type_embeddings): Embedding(2, 1024)\n",
       "        (LayerNorm): LayerNorm((1024,), eps=1e-12, elementwise_affine=True)\n",
       "        (dropout): Dropout(p=0.1, inplace=False)\n",
       "      )\n",
       "      (encoder): BertEncoder(\n",
       "        (layer): ModuleList(\n",
       "          (0-23): 24 x BertLayer(\n",
       "            (attention): BertAttention(\n",
       "              (self): BertSdpaSelfAttention(\n",
       "                (query): Linear(in_features=1024, out_features=1024, bias=True)\n",
       "                (key): Linear(in_features=1024, out_features=1024, bias=True)\n",
       "                (value): Linear(in_features=1024, out_features=1024, bias=True)\n",
       "                (dropout): Dropout(p=0.1, inplace=False)\n",
       "              )\n",
       "              (output): BertSelfOutput(\n",
       "                (dense): Linear(in_features=1024, out_features=1024, bias=True)\n",
       "                (LayerNorm): LayerNorm((1024,), eps=1e-12, elementwise_affine=True)\n",
       "                (dropout): Dropout(p=0.1, inplace=False)\n",
       "              )\n",
       "            )\n",
       "            (intermediate): BertIntermediate(\n",
       "              (dense): Linear(in_features=1024, out_features=4096, bias=True)\n",
       "              (intermediate_act_fn): GELUActivation()\n",
       "            )\n",
       "            (output): BertOutput(\n",
       "              (dense): Linear(in_features=4096, out_features=1024, bias=True)\n",
       "              (LayerNorm): LayerNorm((1024,), eps=1e-12, elementwise_affine=True)\n",
       "              (dropout): Dropout(p=0.1, inplace=False)\n",
       "            )\n",
       "          )\n",
       "        )\n",
       "      )\n",
       "      (pooler): BertPooler(\n",
       "        (dense): Linear(in_features=1024, out_features=1024, bias=True)\n",
       "        (activation): Tanh()\n",
       "      )\n",
       "    )\n",
       "    (dropout): Dropout(p=0.1, inplace=False)\n",
       "    (classifier): Linear(in_features=1024, out_features=4, bias=True)\n",
       "  )\n",
       ")"
      ]
     },
     "execution_count": 51,
     "metadata": {},
     "output_type": "execute_result"
    }
   ],
   "source": [
    "calibration_module.eval()"
   ]
  },
  {
   "cell_type": "code",
   "execution_count": 52,
   "metadata": {},
   "outputs": [],
   "source": [
    "def predict_cal(texts, model, tokenizer, device):\n",
    "    inputs = tokenizer(texts, padding=True, truncation=True, max_length=512, return_tensors=\"pt\")\n",
    "    inputs = {k: v.to(device) for k, v in inputs.items() if k in ['input_ids', \"token_ids\", 'attention_mask']}  \n",
    "    with torch.no_grad():\n",
    "        logits = model(**inputs)  \n",
    "    return logits.cpu().numpy()"
   ]
  },
  {
   "cell_type": "code",
   "execution_count": 53,
   "metadata": {},
   "outputs": [],
   "source": [
    "all_predictions = []\n",
    "all_labels = []\n",
    "batch_size = 8  \n",
    "\n",
    "for i in range(0, len(test), batch_size):\n",
    "    batch = test[i:i+batch_size]\n",
    "    batch_texts = batch['Input']\n",
    "    batch_predictions = predict_cal(batch_texts, calibration_module, tokenizer, device)\n",
    "    all_predictions.extend(batch_predictions)\n",
    "    all_labels.extend(batch['labels']) "
   ]
  },
  {
   "cell_type": "code",
   "execution_count": 54,
   "metadata": {},
   "outputs": [],
   "source": [
    "all_predictions = np.array(all_predictions)\n",
    "all_labels = np.array(all_labels)"
   ]
  },
  {
   "cell_type": "code",
   "execution_count": 55,
   "metadata": {},
   "outputs": [],
   "source": [
    "from scipy.special import softmax\n",
    "# Apply softmax to predictions\n",
    "softmax_predictions = softmax(all_predictions, axis=1)"
   ]
  },
  {
   "cell_type": "code",
   "execution_count": 56,
   "metadata": {},
   "outputs": [],
   "source": [
    "df_test_cal = test.to_pandas()\n",
    "df_test_cal['Predicted_scores'] = all_predictions.tolist()\n",
    "df_test_cal['Predicted_Softmax_scores'] = softmax_predictions.tolist()"
   ]
  },
  {
   "cell_type": "code",
   "execution_count": 57,
   "metadata": {},
   "outputs": [],
   "source": [
    "df_test_cal['predicted_labels'] = df_test['Predicted_scores'].apply(lambda x: x.index(max(x)))\n",
    "df_test_cal['predicted_softmax_labels'] = df_test['Predicted_Softmax_scores'].apply(lambda x: x.index(max(x)))"
   ]
  },
  {
   "cell_type": "code",
   "execution_count": 58,
   "metadata": {},
   "outputs": [],
   "source": [
    "from datasets import Dataset\n",
    "test_cal = Dataset.from_pandas(df_test_cal) "
   ]
  },
  {
   "cell_type": "code",
   "execution_count": 60,
   "metadata": {},
   "outputs": [],
   "source": [
    "label_ecnoding_multip = {'Pro': 0,\n",
    "'Against': 1,\n",
    "'Neutral': 2,\n",
    "'Not-about': 3,} \n",
    "\n",
    "\n",
    "m_test_cal['true_labels'] = m_test_cal['majority_label'].map(label_ecnoding_multip) "
   ]
  },
  {
   "cell_type": "code",
   "execution_count": 61,
   "metadata": {},
   "outputs": [
    {
     "name": "stdout",
     "output_type": "stream",
     "text": [
      "Accuracy: 46.76258992805755\n",
      "Precision: 46.88025938025938\n",
      "Recall: 47.16486233627372\n",
      "F1 Score: 46.751735431792824\n",
      "Confusion Matrix:\n",
      "[[19  9 13  2]\n",
      " [ 6 17  4  2]\n",
      " [11  6 19  7]\n",
      " [ 3  5  6 10]]\n",
      "Classification Report:\n",
      "              precision    recall  f1-score   support\n",
      "\n",
      "           0       0.49      0.44      0.46        43\n",
      "           1       0.46      0.59      0.52        29\n",
      "           2       0.45      0.44      0.45        43\n",
      "           3       0.48      0.42      0.44        24\n",
      "\n",
      "    accuracy                           0.47       139\n",
      "   macro avg       0.47      0.47      0.47       139\n",
      "weighted avg       0.47      0.47      0.47       139\n",
      "\n",
      "Average Confidence Score: 45.82185447216034\n",
      "Average Confidence for Correct Predictions: 47.3630455824045\n",
      "Average Confidence for Incorrect Predictions: 44.46810850420514\n"
     ]
    }
   ],
   "source": [
    "from torch.nn import functional as F\n",
    "\n",
    "def calculate_confidences_cal(df, model, tokenizer):\n",
    "    \"\"\"\n",
    "    Calculate confidence scores and update the DataFrame with a new column.\n",
    "    \n",
    "    Args:\n",
    "    - df: DataFrame with input data\n",
    "    - model: Trained model with a method to get logits\n",
    "    - tokenizer: Tokenizer to preprocess text\n",
    "    \n",
    "    Returns:\n",
    "    - df: Updated DataFrame with a 'confidence_scores' column\n",
    "    \"\"\"\n",
    "    confidences = []\n",
    "\n",
    "    calibration_module.eval() \n",
    "\n",
    "    for index, row in df.iterrows():\n",
    "        text = row['Input']  \n",
    "       \n",
    "        inputs = tokenizer(text, return_tensors=\"pt\", truncation=True, padding=True).to(model.device)\n",
    "        \n",
    "        with torch.no_grad():\n",
    "            logits = model(**inputs).logits\n",
    "            probabilities = F.softmax(logits, dim=-1) \n",
    "            probabilities = probabilities.cpu().numpy().flatten()  \n",
    "            \n",
    "            # Get the maximum probability (confidence) and corresponding class index\n",
    "            max_prob = np.max(probabilities)\n",
    "            confidences.append(max_prob)\n",
    "    \n",
    "   \n",
    "    df['confidence_scores'] = confidences\n",
    "    return df\n",
    "\n",
    "\n",
    "m_test_cal = calculate_confidences_cal(m_test_cal, model, tokenizer)\n",
    "\n",
    "# Proceed with metrics calculation\n",
    "y_true = m_test_cal['true_labels']\n",
    "y_pred = m_test_cal['predicted_labels']\n",
    "confidence_scores = m_test_cal['confidence_scores']\n",
    "\n",
    "# Accuracy\n",
    "accuracy = accuracy_score(y_true, y_pred)\n",
    "print(\"Accuracy:\", accuracy * 100)\n",
    "\n",
    "# Precision\n",
    "precision = precision_score(y_true, y_pred, average='macro')  # 'macro' averaging for multiclass\n",
    "print(\"Precision:\", precision * 100)\n",
    "\n",
    "# Recall\n",
    "recall = recall_score(y_true, y_pred, average='macro')  # 'macro' averaging for multiclass\n",
    "print(\"Recall:\", recall * 100)\n",
    "\n",
    "# F1 Score\n",
    "f1 = f1_score(y_true, y_pred, average='macro')  # 'macro' averaging for multiclass\n",
    "print(\"F1 Score:\", f1 * 100)\n",
    "\n",
    "# Confusion Matrix\n",
    "conf_matrix = confusion_matrix(y_true, y_pred)\n",
    "print(\"Confusion Matrix:\")\n",
    "print(conf_matrix)\n",
    "\n",
    "# Classification Report\n",
    "class_report = classification_report(y_true, y_pred)\n",
    "print(\"Classification Report:\")\n",
    "print(class_report)\n",
    "\n",
    "# Average Confidence Score\n",
    "avg_confidence = np.mean(confidence_scores)\n",
    "print(\"Average Confidence Score:\", avg_confidence * 100)\n",
    "\n",
    "# Confidence for Correct and Incorrect Predictions\n",
    "correct_confidence = np.mean([confidence for pred, true, confidence in zip(y_pred, y_true, confidence_scores) if pred == true])\n",
    "incorrect_confidence = np.mean([confidence for pred, true, confidence in zip(y_pred, y_true, confidence_scores) if pred != true])\n",
    "\n",
    "print(\"Average Confidence for Correct Predictions:\", correct_confidence * 100)\n",
    "print(\"Average Confidence for Incorrect Predictions:\", incorrect_confidence * 100)"
   ]
  }
 ],
 "metadata": {
  "kernelspec": {
   "display_name": "multip",
   "language": "python",
   "name": "multip"
  },
  "language_info": {
   "codemirror_mode": {
    "name": "ipython",
    "version": 3
   },
   "file_extension": ".py",
   "mimetype": "text/x-python",
   "name": "python",
   "nbconvert_exporter": "python",
   "pygments_lexer": "ipython3",
   "version": "3.10.12"
  }
 },
 "nbformat": 4,
 "nbformat_minor": 2
}
