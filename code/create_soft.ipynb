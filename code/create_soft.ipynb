{
 "cells": [
  {
   "cell_type": "code",
   "execution_count": 12,
   "metadata": {},
   "outputs": [],
   "source": [
    "import pandas as pd\n",
    "\n"
   ]
  },
  {
   "cell_type": "code",
   "execution_count": 3,
   "metadata": {},
   "outputs": [],
   "source": [
    "train_human=pd.read_csv(f\"{path_to_multip_humandata}/multip_train.csv\")\n",
    "test_human=pd.read_csv(f\"{path_to_multip_humandata}/multip_test.csv\")\n",
    "val_human=pd.read_csv(f\"{path_to_multip_humandata}/multip_val.csv\")"
   ]
  },
  {
   "cell_type": "code",
   "execution_count": 14,
   "metadata": {},
   "outputs": [],
   "source": [
    "train_llm=pd.read_csv(f\"{path_to_multip_llm_data}/multip_new/train_llm.csv\")\n",
    "val_llm=pd.read_csv(f\"{path_to_multip_llm_data}/multip_new/test_llm.csv\")\n",
    "test_llm=pd.read_csv(f\"{path_to_multip_llm_data}/multip_new/val_llm.csv\")  "
   ]
  },
  {
   "cell_type": "code",
   "execution_count": 4,
   "metadata": {},
   "outputs": [],
   "source": [
    "count_no_majority_train = train_human['majority_label'].value_counts().get(\"No majority\", 0)"
   ]
  },
  {
   "cell_type": "code",
   "execution_count": 17,
   "metadata": {},
   "outputs": [],
   "source": [
    "train_llm['llm_labels'] = train_llm.apply(lambda row: [row['olmo'], row['llama'], row['mistral']], axis=1)\n",
    "val_llm['llm_labels'] = val_llm.apply(lambda row: [row['olmo'], row['llama'], row['mistral']], axis=1)\n",
    "test_llm['llm_labels'] = test_llm.apply(lambda row: [row['olmo'], row['llama'], row['mistral']], axis=1)"
   ]
  },
  {
   "cell_type": "code",
   "execution_count": 28,
   "metadata": {},
   "outputs": [],
   "source": [
    "labels = ['Pro', 'Against', 'Neutral', 'Not-about']\n",
    "num_labels = len(labels)\n",
    "id2label = {id:label for id,label in enumerate(labels)}\n",
    "label2id = {label:id for id,label in enumerate(labels)}"
   ]
  },
  {
   "cell_type": "code",
   "execution_count": 29,
   "metadata": {},
   "outputs": [],
   "source": [
    "import ast\n",
    "def ensure_list(val):\n",
    "    if isinstance(val, str):\n",
    "        try:\n",
    "            return ast.literal_eval(val)\n",
    "        except (ValueError, SyntaxError):\n",
    "            return [val]\n",
    "    elif isinstance(val, list):\n",
    "        return val\n",
    "    else:\n",
    "        return []"
   ]
  },
  {
   "cell_type": "code",
   "execution_count": null,
   "metadata": {},
   "outputs": [],
   "source": [
    "\n",
    "train_human['labels'] = train_human['labels'].apply(ensure_list)\n",
    "test_human['labels'] = test_human['labels'].apply(ensure_list)\n",
    "val_human['labels'] = val_human['labels'].apply(ensure_list)\n",
    "\n",
    "\n",
    "train_human['label_indices'] = train_human['labels'].apply(lambda x: [label2id[label] for label in x if label in label2id])\n",
    "test_human['label_indices'] = test_human['labels'].apply(lambda x: [label2id[label] for label in x if label in label2id])\n",
    "val_human['label_indices'] = val_human['labels'].apply(lambda x: [label2id[label] for label in x if label in label2id])\n",
    "\n",
    "print(train_human[['labels', 'label_indices']].head())"
   ]
  },
  {
   "cell_type": "code",
   "execution_count": 20,
   "metadata": {},
   "outputs": [],
   "source": [
    "train_llm['labels'] = train_llm['labels'].apply(ensure_list)\n",
    "test_llm['labels'] = test_llm['labels'].apply(ensure_list)\n",
    "val_llm['labels'] = val_llm['labels'].apply(ensure_list)\n",
    "\n",
    "\n",
    "train_llm['label_indices'] = train_llm['labels'].apply(lambda x: [label2id[label] for label in x if label in label2id])\n",
    "test_llm['label_indices'] = test_llm['labels'].apply(lambda x: [label2id[label] for label in x if label in label2id])\n",
    "val_llm['label_indices'] = val_llm['labels'].apply(lambda x: [label2id[label] for label in x if label in label2id])"
   ]
  },
  {
   "cell_type": "code",
   "execution_count": 8,
   "metadata": {},
   "outputs": [
    {
     "name": "stdout",
     "output_type": "stream",
     "text": [
      "Etichette uniche nel DataFrame: {\"['Neutral', 'Not-about', nan]\", \"['Against', 'Against', nan]\", 'Against', 'Neutral', 'Link-broken', 'Not-about', 'Pro'}\n",
      "0                      [Pro, Pro, Pro]\n",
      "1          [Neutral, Neutral, Neutral]\n",
      "2    [Not-about, Not-about, Not-about]\n",
      "3              [Neutral, Neutral, Pro]\n",
      "4          [Neutral, Neutral, Neutral]\n",
      "Name: labels, dtype: object\n"
     ]
    }
   ],
   "source": [
    "unique_labels = set(label for sublist in train_human['labels'] for label in sublist)\n",
    "print(\"Etichette uniche nel DataFrame:\", unique_labels)\n",
    "print(train_human['labels'].head())"
   ]
  },
  {
   "cell_type": "code",
   "execution_count": 21,
   "metadata": {},
   "outputs": [
    {
     "name": "stdout",
     "output_type": "stream",
     "text": [
      "Etichette uniche nel DataFrame: {'Neutral', 'Not-about', 'Pro', 'Against'}\n",
      "0                      [Pro, Pro, Pro]\n",
      "1          [Neutral, Neutral, Neutral]\n",
      "2    [Not-about, Not-about, Not-about]\n",
      "3              [Neutral, Neutral, Pro]\n",
      "4          [Neutral, Neutral, Neutral]\n",
      "Name: labels, dtype: object\n"
     ]
    }
   ],
   "source": [
    "unique_labels = set(label for sublist in train_llm['labels'] for label in sublist)\n",
    "print(\"Etichette uniche nel DataFrame:\", unique_labels)\n",
    "print(train_llm['labels'].head())"
   ]
  },
  {
   "cell_type": "code",
   "execution_count": 32,
   "metadata": {},
   "outputs": [],
   "source": [
    "from scipy.special import softmax\n",
    "\n",
    "\n",
    "def create_soft_labels_index(data, label_column, col_name, all_labels=None):\n",
    "    \"\"\"\n",
    "    Creates soft labels based on a \"labels\" column that contains all labels for a document,\n",
    "    approximating them to one decimal point, ensuring that all classes have an assigned probability.\n",
    "\n",
    "    :param data: pandas DataFrame containing the data\n",
    "    :param label_column: Name of the column that contains the labels (default: 'labels')\n",
    "    :param col_name: The name of the column to store the resulting soft labels\n",
    "    :param all_labels: List of all possible labels. If None, they will be inferred from the labels in the DataFrame.\n",
    "    :return: DataFrame with a new column containing the soft labels.\n",
    "    \"\"\"\n",
    "    _data = data.copy()  # Create a copy of the input data to avoid modifying the original DataFrame\n",
    "\n",
    "    # If all_labels is not provided, use the default label set\n",
    "    if all_labels is None:\n",
    "        all_labels = ['Pro', 'Against', 'Neutral', 'Not-about']\n",
    "\n",
    "    all_labels_set = set(all_labels)  # Convert all_labels to a set for quick lookup (optional)\n",
    "\n",
    "    soft_labels_list = []  # Initialize a list to store soft labels for each document\n",
    "\n",
    "    # Iterate through each label in the specified label_column\n",
    "    for labels in _data[label_column]:\n",
    "        \n",
    "        if isinstance(labels, str):\n",
    "            labels = ast.literal_eval(labels)  # If labels are a string, convert them into a list using literal_eval\n",
    "\n",
    "        # Count the occurrences of each label in the current list of labels\n",
    "        label_counts = pd.Series(labels).value_counts().to_dict()\n",
    "\n",
    "        # Create a list of counts, ensuring each label from all_labels is represented (default count = 0)\n",
    "        counts = [label_counts.get(label, 0) for label in all_labels]\n",
    "\n",
    "        # Compute soft probabilities using the softmax function\n",
    "        soft_probs = softmax(counts)\n",
    "\n",
    "        # Map each label to its corresponding softmax probability\n",
    "        soft_label_map = dict(zip(all_labels, soft_probs))\n",
    "\n",
    "        # Retrieve the soft probabilities for all labels in the same order as all_labels\n",
    "        soft_labels = [soft_label_map[label] for label in all_labels]\n",
    "\n",
    "        # Round each soft probability to one decimal point\n",
    "        soft_labels = [round(prob, 1) for prob in soft_labels]\n",
    "\n",
    "        # Append the soft labels to the list\n",
    "        soft_labels_list.append(soft_labels)\n",
    "\n",
    "    # Add a new column to the DataFrame with the generated soft labels\n",
    "    _data[col_name] = soft_labels_list\n",
    "\n",
    "    return _data  # Return the modified DataFrame"
   ]
  },
  {
   "cell_type": "code",
   "execution_count": 10,
   "metadata": {},
   "outputs": [],
   "source": [
    "train_soft_human=create_soft_labels_index(train_human)\n",
    "test_soft_human=create_soft_labels_index(test_human)\n",
    "val_soft_human=create_soft_labels_index(val_human)"
   ]
  },
  {
   "cell_type": "code",
   "execution_count": 23,
   "metadata": {},
   "outputs": [],
   "source": [
    "train_soft_llm=create_soft_labels_index(train_llm)\n",
    "test_soft_llm=create_soft_labels_index(test_llm)\n",
    "val_soft_llm=create_soft_labels_index(val_llm)"
   ]
  },
  {
   "cell_type": "code",
   "execution_count": 11,
   "metadata": {},
   "outputs": [],
   "source": [
    "import os\n",
    "directory = 'your dataset saving dir'\n",
    "train_file = os.path.join(directory, 'train_soft_human.csv')\n",
    "test_file = os.path.join(directory, 'test_soft_human.csv')\n",
    "val_file = os.path.join(directory, 'val_soft_human.csv')\n",
    "\n",
    "\n",
    "train_soft_human.to_csv(train_file, index=False)\n",
    "test_soft_human.to_csv(test_file, index=False)\n",
    "val_soft_human.to_csv(val_file, index=False) \n",
    "\n",
    "\n"
   ]
  },
  {
   "cell_type": "code",
   "execution_count": 24,
   "metadata": {},
   "outputs": [],
   "source": [
    "import os\n",
    "directory = 'your dataset saving dir'\n",
    "train_file = os.path.join(directory, 'train_soft_llm.csv')\n",
    "test_file = os.path.join(directory, 'test_soft_llm.csv')\n",
    "val_file = os.path.join(directory, 'val_soft_llm.csv')\n",
    "\n",
    "\n",
    "train_soft_llm.to_csv(train_file, index=False)\n",
    "test_soft_llm.to_csv(test_file, index=False)\n",
    "val_soft_llm.to_csv(val_file, index=False) "
   ]
  }
 ],
 "metadata": {
  "kernelspec": {
   "display_name": "multip",
   "language": "python",
   "name": "multip"
  }
 },
 "nbformat": 4,
 "nbformat_minor": 2
}
