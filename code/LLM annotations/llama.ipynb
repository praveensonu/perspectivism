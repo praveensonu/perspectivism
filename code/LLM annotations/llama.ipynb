{
 "cells": [
  {
   "cell_type": "code",
   "execution_count": 1,
   "metadata": {},
   "outputs": [],
   "source": [
    "import outlines\n",
    "import pandas as pd\n",
    "import torch\n",
    "import transformers\n",
    "from utils import *"
   ]
  },
  {
   "cell_type": "code",
   "execution_count": 2,
   "metadata": {},
   "outputs": [
    {
     "data": {
      "application/vnd.jupyter.widget-view+json": {
       "model_id": "e03db8271f0b4f4caf3fbd026565b297",
       "version_major": 2,
       "version_minor": 0
      },
      "text/plain": [
       "Loading checkpoint shards:   0%|          | 0/4 [00:00<?, ?it/s]"
      ]
     },
     "metadata": {},
     "output_type": "display_data"
    }
   ],
   "source": [
    "model_name = 'meta-llama/Meta-Llama-3-8B'\n",
    "model = outlines.models.transformers(model_name, model_kwargs={\"torch_dtype\": torch.float16}, device=\"cuda\")"
   ]
  },
  {
   "cell_type": "code",
   "execution_count": 3,
   "metadata": {},
   "outputs": [],
   "source": [
    "choices =[ 'Pro','Against','Neutral','Not-about']\n",
    "generator = outlines.generate.choice(model, choices)"
   ]
  },
  {
   "cell_type": "code",
   "execution_count": 4,
   "metadata": {},
   "outputs": [],
   "source": [
    "#train = pd.read_csv('../../dataset/llm_annotations/train_llm_ann.csv')\n",
    "#test = pd.read_csv('../../dataset/llm_annotations/test_llm_ann.csv')\n",
    "#val = pd.read_csv('../../dataset/llm_annotations/val_llm_ann.csv')\n",
    "\n",
    "\n",
    "\n",
    "train = pd.read_csv('../../dataset/llm_annotations/train_maj.csv')\n",
    "test = pd.read_csv('../../dataset/llm_annotations/test_maj.csv')\n",
    "val = pd.read_csv('../../dataset/llm_annotations/val_maj.csv')\n"
   ]
  },
  {
   "cell_type": "code",
   "execution_count": 6,
   "metadata": {},
   "outputs": [
    {
     "name": "stderr",
     "output_type": "stream",
     "text": [
      "Annotating DataFrame: 100%|██████████| 115/115 [00:00<00:00, 52258.39it/s]\n",
      "Annotating DataFrame:   0%|          | 0/115 [00:00<?, ?it/s]We detected that you are passing `past_key_values` as a tuple and this is deprecated and will be removed in v4.43. Please use an appropriate `Cache` class (https://huggingface.co/docs/transformers/v4.41.3/en/internal/generation_utils#transformers.Cache)\n",
      "Annotating DataFrame: 100%|██████████| 115/115 [00:24<00:00,  4.64it/s]\n",
      "Annotating DataFrame: 100%|██████████| 18/18 [00:00<00:00, 17890.40it/s]\n",
      "Annotating DataFrame: 100%|██████████| 18/18 [00:03<00:00,  4.55it/s]\n",
      "Annotating DataFrame: 100%|██████████| 18/18 [00:00<00:00, 17135.15it/s]\n",
      "Annotating DataFrame: 100%|██████████| 18/18 [00:03<00:00,  5.04it/s]\n"
     ]
    }
   ],
   "source": [
    "col_name = 'llama'\n",
    "\n",
    "# Annotate the train DataFrame and save to a CSV\n",
    "annotated_train = annotate_dataframe(train, generator, col_name,output_file='../../dataset/llm_annotations/train_maj.csv')\n",
    "\n",
    "# Annotate the test DataFrame and save to a CSV\n",
    "annotated_test = annotate_dataframe(test, generator, col_name, output_file='../../dataset/llm_annotations/test_maj.csv')\n",
    "\n",
    "# Annotate the val DataFrame and save to a CSV\n",
    "annotated_val = annotate_dataframe(val, generator, col_name, output_file='../../dataset/llm_annotations/val_maj.csv')"
   ]
  },
  {
   "cell_type": "code",
   "execution_count": null,
   "metadata": {},
   "outputs": [],
   "source": []
  }
 ],
 "metadata": {
  "kernelspec": {
   "display_name": "multip",
   "language": "python",
   "name": "multip"
  },
  "language_info": {
   "codemirror_mode": {
    "name": "ipython",
    "version": 3
   },
   "file_extension": ".py",
   "mimetype": "text/x-python",
   "name": "python",
   "nbconvert_exporter": "python",
   "pygments_lexer": "ipython3",
   "version": "3.10.12"
  }
 },
 "nbformat": 4,
 "nbformat_minor": 2
}
