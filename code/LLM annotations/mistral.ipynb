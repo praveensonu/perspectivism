{
 "cells": [
  {
   "cell_type": "code",
   "execution_count": 1,
   "metadata": {},
   "outputs": [],
   "source": [
    "import outlines\n",
    "import pandas as pd\n",
    "import torch\n",
    "import transformers\n",
    "from utils import *\n"
   ]
  },
  {
   "cell_type": "code",
   "execution_count": 2,
   "metadata": {},
   "outputs": [
    {
     "data": {
      "application/vnd.jupyter.widget-view+json": {
       "model_id": "6347b974b158452888c2fc7598ea2fef",
       "version_major": 2,
       "version_minor": 0
      },
      "text/plain": [
       "VBox(children=(HTML(value='<center> <img\\nsrc=https://huggingface.co/front/assets/huggingface_logo-noborder.sv…"
      ]
     },
     "metadata": {},
     "output_type": "display_data"
    }
   ],
   "source": [
    "from huggingface_hub import login\n",
    "login()"
   ]
  },
  {
   "cell_type": "code",
   "execution_count": 3,
   "metadata": {},
   "outputs": [
    {
     "data": {
      "application/vnd.jupyter.widget-view+json": {
       "model_id": "86dac931e16447d1addb537cefab6cd1",
       "version_major": 2,
       "version_minor": 0
      },
      "text/plain": [
       "Downloading shards:   0%|          | 0/3 [00:00<?, ?it/s]"
      ]
     },
     "metadata": {},
     "output_type": "display_data"
    },
    {
     "data": {
      "application/vnd.jupyter.widget-view+json": {
       "model_id": "436e8555f2b242999227d58a31133a64",
       "version_major": 2,
       "version_minor": 0
      },
      "text/plain": [
       "Loading checkpoint shards:   0%|          | 0/3 [00:00<?, ?it/s]"
      ]
     },
     "metadata": {},
     "output_type": "display_data"
    },
    {
     "data": {
      "application/vnd.jupyter.widget-view+json": {
       "model_id": "4a1b931239b64ad7b998958106fa6a16",
       "version_major": 2,
       "version_minor": 0
      },
      "text/plain": [
       "tokenizer_config.json:   0%|          | 0.00/141k [00:00<?, ?B/s]"
      ]
     },
     "metadata": {},
     "output_type": "display_data"
    }
   ],
   "source": [
    "model_name = 'mistralai/Mistral-7B-v0.3'\n",
    "model = outlines.models.transformers(model_name, model_kwargs={\"torch_dtype\": torch.float16}, device=\"cuda\")"
   ]
  },
  {
   "cell_type": "code",
   "execution_count": 4,
   "metadata": {},
   "outputs": [],
   "source": [
    "# train = pd.read_csv('../../dataset/llm_annotations/train_llm_ann.csv')\n",
    "# test = pd.read_csv('../../dataset/llm_annotations/test_llm_ann.csv')\n",
    "# val = pd.read_csv('../../dataset/llm_annotations/val_llm_ann.csv')\n",
    "\n",
    "\n",
    "train = pd.read_csv('../../dataset/llm_annotations/train_maj.csv')\n",
    "test = pd.read_csv('../../dataset/llm_annotations/test_maj.csv')\n",
    "val = pd.read_csv('../../dataset/llm_annotations/val_maj.csv')"
   ]
  },
  {
   "cell_type": "code",
   "execution_count": 6,
   "metadata": {},
   "outputs": [
    {
     "name": "stderr",
     "output_type": "stream",
     "text": [
      "Compiling FSM index for all state transitions: 100%|██████████| 22/22 [00:00<00:00, 109.30it/s]\n"
     ]
    }
   ],
   "source": [
    "choices =[ 'Pro','Against','Neutral','Not-about']\n",
    "generator = outlines.generate.choice(model, choices)"
   ]
  },
  {
   "cell_type": "code",
   "execution_count": 7,
   "metadata": {},
   "outputs": [
    {
     "name": "stderr",
     "output_type": "stream",
     "text": [
      "Annotating DataFrame: 100%|██████████| 115/115 [00:00<00:00, 38099.92it/s]\n",
      "Annotating DataFrame:   0%|          | 0/115 [00:00<?, ?it/s]We detected that you are passing `past_key_values` as a tuple and this is deprecated and will be removed in v4.43. Please use an appropriate `Cache` class (https://huggingface.co/docs/transformers/v4.41.3/en/internal/generation_utils#transformers.Cache)\n",
      "Annotating DataFrame: 100%|██████████| 115/115 [00:29<00:00,  3.91it/s]\n",
      "Annotating DataFrame: 100%|██████████| 18/18 [00:00<00:00, 15725.36it/s]\n",
      "Annotating DataFrame: 100%|██████████| 18/18 [00:05<00:00,  3.57it/s]\n",
      "Annotating DataFrame: 100%|██████████| 18/18 [00:00<00:00, 22933.62it/s]\n",
      "Annotating DataFrame: 100%|██████████| 18/18 [00:04<00:00,  3.85it/s]\n"
     ]
    }
   ],
   "source": [
    "\n",
    "col_name = 'mistral_instruct'\n",
    "\n",
    "# Annotate the train DataFrame and save to a CSV\n",
    "annotated_train = annotate_dataframe(train, generator, col_name,output_file='../../dataset/llm_annotations/train_maj.csv')\n",
    "\n",
    "# Annotate the test DataFrame and save to a CSV\n",
    "annotated_test = annotate_dataframe(test, generator, col_name, output_file='../../dataset/llm_annotations/test_maj.csv')\n",
    "\n",
    "# Annotate the val DataFrame and save to a CSV\n",
    "annotated_val = annotate_dataframe(val, generator, col_name, output_file='../../dataset/llm_annotations/val_maj.csv')\n",
    "\n",
    "\n",
    "# Annotate the train DataFrame and save to a CSV\n",
    "\n",
    "# annotated_train = annotate_dataframe(train, generator, col_name,output_file='../../dataset/llm_annotations/train_llm_ann.csv')\n",
    "\n",
    "# # Annotate the test DataFrame and save to a CSV\n",
    "# annotated_test = annotate_dataframe(test, generator, col_name, output_file='../../dataset/llm_annotations/test_llm_ann.csv')\n",
    "\n",
    "# # Annotate the val DataFrame and save to a CSV\n",
    "# annotated_val = annotate_dataframe(val, generator, col_name, output_file='../../dataset/llm_annotations/val_llm_ann.csv')\n"
   ]
  },
  {
   "cell_type": "code",
   "execution_count": 8,
   "metadata": {},
   "outputs": [
    {
     "data": {
      "text/html": [
       "<div>\n",
       "<style scoped>\n",
       "    .dataframe tbody tr th:only-of-type {\n",
       "        vertical-align: middle;\n",
       "    }\n",
       "\n",
       "    .dataframe tbody tr th {\n",
       "        vertical-align: top;\n",
       "    }\n",
       "\n",
       "    .dataframe thead th {\n",
       "        text-align: right;\n",
       "    }\n",
       "</style>\n",
       "<table border=\"1\" class=\"dataframe\">\n",
       "  <thead>\n",
       "    <tr style=\"text-align: right;\">\n",
       "      <th></th>\n",
       "      <th>QID_x</th>\n",
       "      <th>Topic</th>\n",
       "      <th>Query</th>\n",
       "      <th>docID</th>\n",
       "      <th>docURL</th>\n",
       "      <th>docTitle</th>\n",
       "      <th>docCont</th>\n",
       "      <th>engineID</th>\n",
       "      <th>rank</th>\n",
       "      <th>answer1</th>\n",
       "      <th>...</th>\n",
       "      <th>docCont_length</th>\n",
       "      <th>gpt_summaries</th>\n",
       "      <th>doc</th>\n",
       "      <th>Prompt</th>\n",
       "      <th>olmo_instruct</th>\n",
       "      <th>olmo</th>\n",
       "      <th>llama_instruct</th>\n",
       "      <th>llama</th>\n",
       "      <th>mistral</th>\n",
       "      <th>mistral_instruct</th>\n",
       "    </tr>\n",
       "  </thead>\n",
       "  <tbody>\n",
       "    <tr>\n",
       "      <th>0</th>\n",
       "      <td>2</td>\n",
       "      <td>Euthanasia &amp; Assisted Suicide</td>\n",
       "      <td>Should Euthanasia or Physician-Assisted Suicid...</td>\n",
       "      <td>1s2q1r</td>\n",
       "      <td>http://theconversation.com/viewpoints-should-e...</td>\n",
       "      <td>Viewpoints: should euthanasia be available for...</td>\n",
       "      <td>Research Associate, University of Notre Dame A...</td>\n",
       "      <td>1</td>\n",
       "      <td>1</td>\n",
       "      <td>Against</td>\n",
       "      <td>...</td>\n",
       "      <td>1580</td>\n",
       "      <td>The debate surrounding the legalization of eut...</td>\n",
       "      <td>The debate surrounding the legalization of eut...</td>\n",
       "      <td>You're an annotator chosen for a task of annot...</td>\n",
       "      <td>Not-about</td>\n",
       "      <td>Pro</td>\n",
       "      <td>Against</td>\n",
       "      <td>Against</td>\n",
       "      <td>Not-about</td>\n",
       "      <td>Pro</td>\n",
       "    </tr>\n",
       "    <tr>\n",
       "      <th>1</th>\n",
       "      <td>50</td>\n",
       "      <td>Fighting in Hockey</td>\n",
       "      <td>Should Fighting Be Allowed in Hockey?</td>\n",
       "      <td>2s50q2r</td>\n",
       "      <td>https://montrealgazette.com/sports/hockey/nhl/...</td>\n",
       "      <td>Canadiens Game Day: Habs show plenty of fight ...</td>\n",
       "      <td>Max Domi hits 20-goal mark for first time in N...</td>\n",
       "      <td>2</td>\n",
       "      <td>2</td>\n",
       "      <td>Against</td>\n",
       "      <td>...</td>\n",
       "      <td>1897</td>\n",
       "      <td>In a key NHL match at the Bell Centre, the Mon...</td>\n",
       "      <td>In a key NHL match at the Bell Centre, the Mon...</td>\n",
       "      <td>You're an annotator chosen for a task of annot...</td>\n",
       "      <td>Against</td>\n",
       "      <td>Not-about</td>\n",
       "      <td>Against</td>\n",
       "      <td>Against</td>\n",
       "      <td>Pro</td>\n",
       "      <td>Not-about</td>\n",
       "    </tr>\n",
       "    <tr>\n",
       "      <th>2</th>\n",
       "      <td>11</td>\n",
       "      <td>Prescription Drug Ads</td>\n",
       "      <td>Should Prescription Drugs Be Advertised Direct...</td>\n",
       "      <td>1s11q4r</td>\n",
       "      <td>https://consumer.healthday.com/public-health-i...</td>\n",
       "      <td>FDA May Limit 'Risk Info' in Direct-to-Consume...</td>\n",
       "      <td>Would new approach to broadcast advertising de...</td>\n",
       "      <td>1</td>\n",
       "      <td>4</td>\n",
       "      <td>Not-about</td>\n",
       "      <td>...</td>\n",
       "      <td>623</td>\n",
       "      <td>NaN</td>\n",
       "      <td>Would new approach to broadcast advertising de...</td>\n",
       "      <td>You're an annotator chosen for a task of annot...</td>\n",
       "      <td>Against</td>\n",
       "      <td>Against</td>\n",
       "      <td>Neutral</td>\n",
       "      <td>Against</td>\n",
       "      <td>Pro</td>\n",
       "      <td>Pro</td>\n",
       "    </tr>\n",
       "    <tr>\n",
       "      <th>3</th>\n",
       "      <td>37</td>\n",
       "      <td>Lowering the Voting Age to 16</td>\n",
       "      <td>Should the Voting Age Be Lowered to 16?</td>\n",
       "      <td>1s37q6r</td>\n",
       "      <td>https://thehill.com/homenews/state-watch/43067...</td>\n",
       "      <td>Oregon lawmakers seek to lower state voting ag...</td>\n",
       "      <td>Democratic lawmakers in Oregon announced a mea...</td>\n",
       "      <td>1</td>\n",
       "      <td>6</td>\n",
       "      <td>Link-broken</td>\n",
       "      <td>...</td>\n",
       "      <td>270</td>\n",
       "      <td>NaN</td>\n",
       "      <td>Democratic lawmakers in Oregon announced a mea...</td>\n",
       "      <td>You're an annotator chosen for a task of annot...</td>\n",
       "      <td>Against</td>\n",
       "      <td>Against</td>\n",
       "      <td>Neutral</td>\n",
       "      <td>Not-about</td>\n",
       "      <td>Pro</td>\n",
       "      <td>Not-about</td>\n",
       "    </tr>\n",
       "    <tr>\n",
       "      <th>4</th>\n",
       "      <td>13</td>\n",
       "      <td>Standardized Tests</td>\n",
       "      <td>Is the Use of Standardized Tests Improving Edu...</td>\n",
       "      <td>1s13q4r</td>\n",
       "      <td>https://www.chronicle.com/interactives/Trend19...</td>\n",
       "      <td>To Help Students, Colleges Are Dropping Remedi...</td>\n",
       "      <td>The End of the Remedial CourseBy Katherine Man...</td>\n",
       "      <td>1</td>\n",
       "      <td>4</td>\n",
       "      <td>Against</td>\n",
       "      <td>...</td>\n",
       "      <td>3514</td>\n",
       "      <td>**Summary:**  **Title: The End of the Remedial...</td>\n",
       "      <td>**Summary:**  **Title: The End of the Remedial...</td>\n",
       "      <td>You're an annotator chosen for a task of annot...</td>\n",
       "      <td>Not-about</td>\n",
       "      <td>Pro</td>\n",
       "      <td>Neutral</td>\n",
       "      <td>Neutral</td>\n",
       "      <td>Pro</td>\n",
       "      <td>Not-about</td>\n",
       "    </tr>\n",
       "  </tbody>\n",
       "</table>\n",
       "<p>5 rows × 27 columns</p>\n",
       "</div>"
      ],
      "text/plain": [
       "   QID_x                          Topic  \\\n",
       "0      2  Euthanasia & Assisted Suicide   \n",
       "1     50             Fighting in Hockey   \n",
       "2     11          Prescription Drug Ads   \n",
       "3     37  Lowering the Voting Age to 16   \n",
       "4     13             Standardized Tests   \n",
       "\n",
       "                                               Query    docID  \\\n",
       "0  Should Euthanasia or Physician-Assisted Suicid...   1s2q1r   \n",
       "1              Should Fighting Be Allowed in Hockey?  2s50q2r   \n",
       "2  Should Prescription Drugs Be Advertised Direct...  1s11q4r   \n",
       "3            Should the Voting Age Be Lowered to 16?  1s37q6r   \n",
       "4  Is the Use of Standardized Tests Improving Edu...  1s13q4r   \n",
       "\n",
       "                                              docURL  \\\n",
       "0  http://theconversation.com/viewpoints-should-e...   \n",
       "1  https://montrealgazette.com/sports/hockey/nhl/...   \n",
       "2  https://consumer.healthday.com/public-health-i...   \n",
       "3  https://thehill.com/homenews/state-watch/43067...   \n",
       "4  https://www.chronicle.com/interactives/Trend19...   \n",
       "\n",
       "                                            docTitle  \\\n",
       "0  Viewpoints: should euthanasia be available for...   \n",
       "1  Canadiens Game Day: Habs show plenty of fight ...   \n",
       "2  FDA May Limit 'Risk Info' in Direct-to-Consume...   \n",
       "3  Oregon lawmakers seek to lower state voting ag...   \n",
       "4  To Help Students, Colleges Are Dropping Remedi...   \n",
       "\n",
       "                                             docCont  engineID  rank  \\\n",
       "0  Research Associate, University of Notre Dame A...         1     1   \n",
       "1  Max Domi hits 20-goal mark for first time in N...         2     2   \n",
       "2  Would new approach to broadcast advertising de...         1     4   \n",
       "3  Democratic lawmakers in Oregon announced a mea...         1     6   \n",
       "4  The End of the Remedial CourseBy Katherine Man...         1     4   \n",
       "\n",
       "       answer1  ... docCont_length  \\\n",
       "0      Against  ...           1580   \n",
       "1      Against  ...           1897   \n",
       "2    Not-about  ...            623   \n",
       "3  Link-broken  ...            270   \n",
       "4      Against  ...           3514   \n",
       "\n",
       "                                       gpt_summaries  \\\n",
       "0  The debate surrounding the legalization of eut...   \n",
       "1  In a key NHL match at the Bell Centre, the Mon...   \n",
       "2                                                NaN   \n",
       "3                                                NaN   \n",
       "4  **Summary:**  **Title: The End of the Remedial...   \n",
       "\n",
       "                                                 doc  \\\n",
       "0  The debate surrounding the legalization of eut...   \n",
       "1  In a key NHL match at the Bell Centre, the Mon...   \n",
       "2  Would new approach to broadcast advertising de...   \n",
       "3  Democratic lawmakers in Oregon announced a mea...   \n",
       "4  **Summary:**  **Title: The End of the Remedial...   \n",
       "\n",
       "                                              Prompt olmo_instruct       olmo  \\\n",
       "0  You're an annotator chosen for a task of annot...     Not-about        Pro   \n",
       "1  You're an annotator chosen for a task of annot...       Against  Not-about   \n",
       "2  You're an annotator chosen for a task of annot...       Against    Against   \n",
       "3  You're an annotator chosen for a task of annot...       Against    Against   \n",
       "4  You're an annotator chosen for a task of annot...     Not-about        Pro   \n",
       "\n",
       "   llama_instruct      llama    mistral mistral_instruct  \n",
       "0         Against    Against  Not-about              Pro  \n",
       "1         Against    Against        Pro        Not-about  \n",
       "2         Neutral    Against        Pro              Pro  \n",
       "3         Neutral  Not-about        Pro        Not-about  \n",
       "4         Neutral    Neutral        Pro        Not-about  \n",
       "\n",
       "[5 rows x 27 columns]"
      ]
     },
     "execution_count": 8,
     "metadata": {},
     "output_type": "execute_result"
    }
   ],
   "source": [
    "train.head()"
   ]
  },
  {
   "cell_type": "code",
   "execution_count": null,
   "metadata": {},
   "outputs": [],
   "source": []
  }
 ],
 "metadata": {
  "kernelspec": {
   "display_name": "multip",
   "language": "python",
   "name": "multip"
  },
  "language_info": {
   "codemirror_mode": {
    "name": "ipython",
    "version": 3
   },
   "file_extension": ".py",
   "mimetype": "text/x-python",
   "name": "python",
   "nbconvert_exporter": "python",
   "pygments_lexer": "ipython3",
   "version": "3.10.12"
  }
 },
 "nbformat": 4,
 "nbformat_minor": 2
}
