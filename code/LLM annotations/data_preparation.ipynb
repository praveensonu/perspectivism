{
 "cells": [
  {
   "cell_type": "code",
   "execution_count": 1,
   "metadata": {},
   "outputs": [],
   "source": [
    "import pandas as pd\n",
    "import numpy as np"
   ]
  },
  {
   "cell_type": "code",
   "execution_count": 2,
   "metadata": {},
   "outputs": [],
   "source": [
    "train = pd.read_csv('../../dataset/llm_annotations/train_maj.csv')\n",
    "test = pd.read_csv('../../dataset/llm_annotations/test_maj.csv')\n",
    "val = pd.read_csv('../../dataset/llm_annotations/val_maj.csv')\n",
    "\n",
    "\n",
    "train_soft = pd.read_csv('/home/benedetta.muscato/multiperspective/dataset/llm_annotations/train_llm_ann.csv')\n",
    "test_soft = pd.read_csv('/home/benedetta.muscato/multiperspective/dataset/llm_annotations/test_llm_ann.csv')\n",
    "val_soft = pd.read_csv('/home/benedetta.muscato/multiperspective/dataset/llm_annotations/val_llm_ann.csv')\n"
   ]
  },
  {
   "cell_type": "code",
   "execution_count": 3,
   "metadata": {},
   "outputs": [],
   "source": [
    "columns = train_soft.columns.tolist()\n",
    "train = train[columns]"
   ]
  },
  {
   "cell_type": "code",
   "execution_count": 4,
   "metadata": {},
   "outputs": [
    {
     "name": "stdout",
     "output_type": "stream",
     "text": [
      "(734, 14)\n",
      "(157, 27)\n",
      "(157, 27)\n"
     ]
    }
   ],
   "source": [
    "train = pd.concat([train, train_soft], ignore_index=True)\n",
    "test = pd.concat([test, test_soft], ignore_index=True)\n",
    "val = pd.concat([val, val_soft], ignore_index=True)\n",
    "\n",
    "print(train.shape)\n",
    "print(test.shape)\n",
    "print(val.shape)"
   ]
  },
  {
   "cell_type": "code",
   "execution_count": 5,
   "metadata": {},
   "outputs": [],
   "source": [
    "def multi_label(df, col1, col2, col3, col_name):\n",
    "    df[col_name] = df[[col1, col2,col3]].values.tolist()\n",
    "    return df"
   ]
  },
  {
   "cell_type": "code",
   "execution_count": 6,
   "metadata": {},
   "outputs": [],
   "source": [
    "train = multi_label(train, 'olmo', 'llama', 'mistral', 'llm_labels_noninstruct')\n",
    "test = multi_label(test, 'olmo', 'llama', 'mistral', 'llm_labels_noninstruct')\n",
    "val = multi_label(val, 'olmo', 'llama', 'mistral', 'llm_labels_noninstruct')\n",
    "\n"
   ]
  },
  {
   "cell_type": "code",
   "execution_count": 7,
   "metadata": {},
   "outputs": [],
   "source": [
    "train = multi_label(train, 'olmo_instruct', 'llama_instruct', 'mistral_instruct', 'llm_labels_instruct')\n",
    "test = multi_label(test, 'olmo_instruct', 'llama_instruct', 'mistral_instruct', 'llm_labels_instruct')\n",
    "val = multi_label(val, 'olmo_instruct', 'llama_instruct', 'mistral_instruct', 'llm_labels_instruct')"
   ]
  },
  {
   "cell_type": "code",
   "execution_count": 8,
   "metadata": {},
   "outputs": [],
   "source": [
    "from collections import Counter\n",
    "\n",
    "# Function to determine the majority label\n",
    "def get_majority_label(annotations):\n",
    "    count = Counter(annotations)\n",
    "    most_common = count.most_common(1)[0]\n",
    "    if most_common[1] > 1:  # Check if the most common label appears more than once\n",
    "        return most_common[0]\n",
    "    else:\n",
    "        return 'No Majority'  # If no majority, return 'No Majority'\n"
   ]
  },
  {
   "cell_type": "code",
   "execution_count": 9,
   "metadata": {},
   "outputs": [],
   "source": [
    "train['majority_llm_noninst'] = train['llm_labels_noninstruct'].apply(get_majority_label)\n",
    "test['majority_llm_noninst'] = test['llm_labels_noninstruct'].apply(get_majority_label)\n",
    "val['majority_llm_noninst'] = val['llm_labels_noninstruct'].apply(get_majority_label)"
   ]
  },
  {
   "cell_type": "code",
   "execution_count": 10,
   "metadata": {},
   "outputs": [],
   "source": [
    "train['majority_llm_inst'] = train['llm_labels_instruct'].apply(get_majority_label)\n",
    "test['majority_llm_inst'] = test['llm_labels_instruct'].apply(get_majority_label)\n",
    "val['majority_llm_inst'] = val['llm_labels_instruct'].apply(get_majority_label)"
   ]
  },
  {
   "cell_type": "code",
   "execution_count": 11,
   "metadata": {},
   "outputs": [],
   "source": [
    "labels = ['Pro', 'Against', 'Neutral', 'Not-about']\n",
    "num_labels = len(labels)\n",
    "id2label = {id:label for id,label in enumerate(labels)}\n",
    "label2id = {label:id for id,label in enumerate(labels)}"
   ]
  },
  {
   "cell_type": "code",
   "execution_count": 12,
   "metadata": {},
   "outputs": [
    {
     "name": "stdout",
     "output_type": "stream",
     "text": [
      "               llm_labels_instruct label_indices_instruct\n",
      "0        [Not-about, Against, Pro]              [3, 1, 0]\n",
      "1    [Against, Against, Not-about]              [1, 1, 3]\n",
      "2          [Against, Neutral, Pro]              [1, 2, 0]\n",
      "3    [Against, Neutral, Not-about]              [1, 2, 3]\n",
      "4  [Not-about, Neutral, Not-about]              [3, 2, 3]\n"
     ]
    }
   ],
   "source": [
    "import ast\n",
    "\n",
    "\n",
    "def ensure_list(val):\n",
    "    if isinstance(val, str):\n",
    "        try:\n",
    "            return ast.literal_eval(val)\n",
    "        except (ValueError, SyntaxError):\n",
    "            return [val]\n",
    "    elif isinstance(val, list):\n",
    "        return val\n",
    "    else:\n",
    "        return []\n",
    "\n",
    "\n",
    "train['llm_labels_instruct'] = train['llm_labels_instruct'].apply(ensure_list)\n",
    "test['llm_labels_instruct'] = test['llm_labels_instruct'].apply(ensure_list)\n",
    "val['llm_labels_instruct'] = val['llm_labels_instruct'].apply(ensure_list)\n",
    "\n",
    "train['label_indices_instruct'] = train['llm_labels_instruct'].apply(lambda x: [label2id[label] for label in x if label in label2id])\n",
    "test['label_indices_instruct'] = test['llm_labels_instruct'].apply(lambda x: [label2id[label] for label in x if label in label2id])\n",
    "val['label_indices_instruct'] = val['llm_labels_instruct'].apply(lambda x: [label2id[label] for label in x if label in label2id])\n",
    "\n",
    "# Stampa i risultati\n",
    "print(train[['llm_labels_instruct', 'label_indices_instruct']].head())"
   ]
  },
  {
   "cell_type": "code",
   "execution_count": 13,
   "metadata": {},
   "outputs": [
    {
     "name": "stdout",
     "output_type": "stream",
     "text": [
      "      llm_labels_noninstruct label_indices_noninstruct\n",
      "0  [Pro, Against, Not-about]                 [0, 1, 3]\n",
      "1  [Not-about, Against, Pro]                 [3, 1, 0]\n",
      "2    [Against, Against, Pro]                 [1, 1, 0]\n",
      "3  [Against, Not-about, Pro]                 [1, 3, 0]\n",
      "4        [Pro, Neutral, Pro]                 [0, 2, 0]\n"
     ]
    }
   ],
   "source": [
    "train['llm_labels_noninstruct'] = train['llm_labels_noninstruct'].apply(ensure_list)\n",
    "test['llm_labels_noninstruct'] = test['llm_labels_noninstruct'].apply(ensure_list)\n",
    "val['llm_labels_noninstruct'] = val['llm_labels_noninstruct'].apply(ensure_list)\n",
    "\n",
    "train['label_indices_noninstruct'] = train['llm_labels_noninstruct'].apply(lambda x: [label2id[label] for label in x if label in label2id])\n",
    "test['label_indices_noninstruct'] = test['llm_labels_noninstruct'].apply(lambda x: [label2id[label] for label in x if label in label2id])\n",
    "val['label_indices_noninstruct'] = val['llm_labels_noninstruct'].apply(lambda x: [label2id[label] for label in x if label in label2id])\n",
    "\n",
    "# Stampa i risultati\n",
    "print(train[['llm_labels_noninstruct', 'label_indices_noninstruct']].head())"
   ]
  },
  {
   "cell_type": "code",
   "execution_count": 14,
   "metadata": {},
   "outputs": [
    {
     "name": "stdout",
     "output_type": "stream",
     "text": [
      "Etichette uniche nel DataFrame: {'Against', 'Pro', 'Neutral', 'Not-about'}\n",
      "0    [Pro, Against, Not-about]\n",
      "1    [Not-about, Against, Pro]\n",
      "2      [Against, Against, Pro]\n",
      "3    [Against, Not-about, Pro]\n",
      "4          [Pro, Neutral, Pro]\n",
      "Name: llm_labels_noninstruct, dtype: object\n"
     ]
    }
   ],
   "source": [
    "unique_labels = set(label for sublist in train['llm_labels_noninstruct'] for label in sublist)\n",
    "print(\"Etichette uniche nel DataFrame:\", unique_labels)\n",
    "print(train['llm_labels_noninstruct'].head())"
   ]
  },
  {
   "cell_type": "code",
   "execution_count": 15,
   "metadata": {},
   "outputs": [],
   "source": [
    "\n",
    "from scipy.special import softmax\n",
    "import ast\n",
    "import pandas as pd\n",
    "\n",
    "def create_soft_labels_index(data, label_column,col_name, all_labels=None, ):\n",
    "    \"\"\"\n",
    "    Crea soft labels basate su una colonna \"labels\" che contiene tutte le etichette per un documento,\n",
    "    approssimandole a una sola cifra decimale, assicurandosi che tutte le classi abbiano una probabilità assegnata.\n",
    "\n",
    "    :param data: DataFrame di pandas con i dati\n",
    "    :param label_column: Nome della colonna che contiene le etichette (default: 'labels')\n",
    "    :param all_labels: Lista di tutte le etichette possibili. Se None, verranno inferite dalle etichette nel DataFrame.\n",
    "    :return: DataFrame con una nuova colonna contenente le soft labels.\n",
    "    \"\"\"\n",
    "    _data = data.copy()\n",
    "    \n",
    "    \n",
    "    if all_labels is None:\n",
    "        all_labels = ['Pro', 'Against', 'Neutral', 'Not-about']\n",
    "\n",
    "\n",
    "    all_labels_set = set(all_labels)\n",
    "    \n",
    "    soft_labels_list = []\n",
    "\n",
    "    for labels in _data[label_column]:\n",
    "        \n",
    "        if isinstance(labels, str):\n",
    "            labels = ast.literal_eval(labels)\n",
    "        \n",
    "      \n",
    "        label_counts = pd.Series(labels).value_counts().to_dict()\n",
    "\n",
    "       \n",
    "        counts = [label_counts.get(label, 0) for label in all_labels]\n",
    "        \n",
    "       \n",
    "        soft_probs = softmax(counts)\n",
    "\n",
    "       \n",
    "        soft_label_map = dict(zip(all_labels, soft_probs))\n",
    "        \n",
    "       \n",
    "        soft_labels = [soft_label_map[label] for label in all_labels]\n",
    "        \n",
    "       \n",
    "        soft_labels = [round(prob, 1) for prob in soft_labels]\n",
    "\n",
    "       \n",
    "        soft_labels_list.append(soft_labels)\n",
    "\n",
    "    \n",
    "    _data[col_name] = soft_labels_list\n",
    "\n",
    "    return _data"
   ]
  },
  {
   "cell_type": "code",
   "execution_count": 16,
   "metadata": {},
   "outputs": [],
   "source": [
    "train=create_soft_labels_index(train, 'llm_labels_noninstruct', 'soft_labels_noninst')\n",
    "test=create_soft_labels_index(test, 'llm_labels_noninstruct', 'soft_labels_noninst')\n",
    "val=create_soft_labels_index(val, 'llm_labels_noninstruct', 'soft_labels_noninst')"
   ]
  },
  {
   "cell_type": "code",
   "execution_count": 17,
   "metadata": {},
   "outputs": [],
   "source": [
    "train=create_soft_labels_index(train, 'llm_labels_instruct', 'soft_labels_inst')\n",
    "test=create_soft_labels_index(test, 'llm_labels_instruct', 'soft_labels_inst')\n",
    "val=create_soft_labels_index(val, 'llm_labels_instruct', 'soft_labels_inst')"
   ]
  },
  {
   "cell_type": "code",
   "execution_count": 18,
   "metadata": {},
   "outputs": [],
   "source": [
    "train.to_csv('/home/benedetta.muscato/multiperspective/dataset/df_train_llm_soft.csv', index = False)\n",
    "test.to_csv('/home/benedetta.muscato/multiperspective/dataset/df_test_llm_soft.csv', index = False)\n",
    "val.to_csv('/home/benedetta.muscato/multiperspective/dataset/df_val_llm_soft.csv', index = False)"
   ]
  },
  {
   "cell_type": "code",
   "execution_count": null,
   "metadata": {},
   "outputs": [],
   "source": [
    "# def clean_data(df, col):\n",
    "#     df = df.loc[~(df[col] == 'No majority')]\n",
    "#     return df\n",
    "\n",
    "\n",
    "# train = clean_data(train, 'majority_llm_noninst')\n",
    "# test = clean_data(test, 'majority_llm_noninst')\n",
    "# val = clean_data(val, 'majority_llm_noninst')\n"
   ]
  }
 ],
 "metadata": {
  "kernelspec": {
   "display_name": "multip",
   "language": "python",
   "name": "multip"
  },
  "language_info": {
   "codemirror_mode": {
    "name": "ipython",
    "version": 3
   },
   "file_extension": ".py",
   "mimetype": "text/x-python",
   "name": "python",
   "nbconvert_exporter": "python",
   "pygments_lexer": "ipython3",
   "version": "3.10.12"
  }
 },
 "nbformat": 4,
 "nbformat_minor": 2
}
