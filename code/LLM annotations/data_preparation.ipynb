{
 "cells": [
  {
   "cell_type": "code",
   "execution_count": 1,
   "metadata": {},
   "outputs": [],
   "source": [
    "import pandas as pd\n",
    "import numpy as np"
   ]
  },
  {
   "cell_type": "code",
   "execution_count": 2,
   "metadata": {},
   "outputs": [],
   "source": [
    "train = pd.read_csv('../../dataset/llm_annotations/train_maj.csv') #please add your path\n",
    "test = pd.read_csv('../../dataset/llm_annotations/test_maj.csv')\n",
    "val = pd.read_csv('../../dataset/llm_annotations/val_maj.csv')\n",
    "\n",
    "\n",
    "train_soft = pd.read_csv('llm_annotations/train_llm_ann.csv') #please add your path\n",
    "test_soft = pd.read_csv('llm_annotations/test_llm_ann.csv')\n",
    "val_soft = pd.read_csv('llm_annotations/val_llm_ann.csv')\n",
    "\n",
    "# we had to combine both train_maj (which has no majority labels (human dataset) but was conducted LLM annotations on it) and LLM annotations (does not include no majority)"
   ]
  },
  {
   "cell_type": "code",
   "execution_count": 3,
   "metadata": {},
   "outputs": [],
   "source": [
    "columns = train_soft.columns.tolist()\n",
    "train = train[columns]"
   ]
  },
  {
   "cell_type": "code",
   "execution_count": null,
   "metadata": {},
   "outputs": [],
   "source": [
    "train = pd.concat([train, train_soft], ignore_index=True)\n",
    "test = pd.concat([test, test_soft], ignore_index=True)\n",
    "val = pd.concat([val, val_soft], ignore_index=True)\n",
    "\n",
    "print(train.shape)\n",
    "print(test.shape)\n",
    "print(val.shape)"
   ]
  },
  {
   "cell_type": "code",
   "execution_count": 5,
   "metadata": {},
   "outputs": [],
   "source": [
    "def multi_label(df, col1, col2, col3, col_name):\n",
    "    df[col_name] = df[[col1, col2,col3]].values.tolist()\n",
    "    return df"
   ]
  },
  {
   "cell_type": "code",
   "execution_count": 6,
   "metadata": {},
   "outputs": [],
   "source": [
    "train = multi_label(train, 'olmo', 'llama', 'mistral', 'llm_labels_noninstruct')\n",
    "test = multi_label(test, 'olmo', 'llama', 'mistral', 'llm_labels_noninstruct')\n",
    "val = multi_label(val, 'olmo', 'llama', 'mistral', 'llm_labels_noninstruct')\n",
    "\n"
   ]
  },
  {
   "cell_type": "code",
   "execution_count": 8,
   "metadata": {},
   "outputs": [],
   "source": [
    "from collections import Counter\n",
    "\n",
    "# Function to determine the majority label\n",
    "def get_majority_label(annotations):\n",
    "    count = Counter(annotations)\n",
    "    most_common = count.most_common(1)[0]\n",
    "    if most_common[1] > 1:  # Check if the most common label appears more than once\n",
    "        return most_common[0]\n",
    "    else:\n",
    "        return 'No Majority'  # If no majority, return 'No Majority'\n"
   ]
  },
  {
   "cell_type": "code",
   "execution_count": 9,
   "metadata": {},
   "outputs": [],
   "source": [
    "train['majority_llm_noninst'] = train['llm_labels_noninstruct'].apply(get_majority_label)\n",
    "test['majority_llm_noninst'] = test['llm_labels_noninstruct'].apply(get_majority_label)\n",
    "val['majority_llm_noninst'] = val['llm_labels_noninstruct'].apply(get_majority_label)"
   ]
  },
  {
   "cell_type": "code",
   "execution_count": 11,
   "metadata": {},
   "outputs": [],
   "source": [
    "labels = ['Pro', 'Against', 'Neutral', 'Not-about']\n",
    "num_labels = len(labels)\n",
    "id2label = {id:label for id,label in enumerate(labels)}\n",
    "label2id = {label:id for id,label in enumerate(labels)}"
   ]
  },
  {
   "cell_type": "code",
   "execution_count": null,
   "metadata": {},
   "outputs": [],
   "source": [
    "import ast\n",
    "\n",
    "\n",
    "def ensure_list(val):\n",
    "    if isinstance(val, str):\n",
    "        try:\n",
    "            return ast.literal_eval(val)\n",
    "        except (ValueError, SyntaxError):\n",
    "            return [val]\n",
    "    elif isinstance(val, list):\n",
    "        return val\n",
    "    else:\n",
    "        return []\n",
    "\n",
    "\n"
   ]
  },
  {
   "cell_type": "code",
   "execution_count": null,
   "metadata": {},
   "outputs": [],
   "source": [
    "train['llm_labels_noninstruct'] = train['llm_labels_noninstruct'].apply(ensure_list)\n",
    "test['llm_labels_noninstruct'] = test['llm_labels_noninstruct'].apply(ensure_list)\n",
    "val['llm_labels_noninstruct'] = val['llm_labels_noninstruct'].apply(ensure_list)\n",
    "\n",
    "train['label_indices_noninstruct'] = train['llm_labels_noninstruct'].apply(lambda x: [label2id[label] for label in x if label in label2id])\n",
    "test['label_indices_noninstruct'] = test['llm_labels_noninstruct'].apply(lambda x: [label2id[label] for label in x if label in label2id])\n",
    "val['label_indices_noninstruct'] = val['llm_labels_noninstruct'].apply(lambda x: [label2id[label] for label in x if label in label2id])\n",
    "\n",
    "# Print the results\n",
    "print(train[['llm_labels_noninstruct', 'label_indices_noninstruct']].head())"
   ]
  },
  {
   "cell_type": "code",
   "execution_count": null,
   "metadata": {},
   "outputs": [],
   "source": [
    "unique_labels = set(label for sublist in train['llm_labels_noninstruct'] for label in sublist)\n",
    "print(\"Etichette uniche nel DataFrame:\", unique_labels)\n",
    "print(train['llm_labels_noninstruct'].head())"
   ]
  },
  {
   "cell_type": "code",
   "execution_count": 15,
   "metadata": {},
   "outputs": [],
   "source": [
    "from scipy.special import softmax\n",
    "import ast\n",
    "import pandas as pd\n",
    "\n",
    "def create_soft_labels_index(data, label_column, col_name, all_labels=None):\n",
    "    \"\"\"\n",
    "    Creates soft labels based on a \"labels\" column that contains all labels for a document,\n",
    "    approximating them to one decimal point, ensuring that all classes have an assigned probability.\n",
    "\n",
    "    :param data: pandas DataFrame containing the data\n",
    "    :param label_column: Name of the column that contains the labels (default: 'labels')\n",
    "    :param col_name: The name of the column to store the resulting soft labels\n",
    "    :param all_labels: List of all possible labels. If None, they will be inferred from the labels in the DataFrame.\n",
    "    :return: DataFrame with a new column containing the soft labels.\n",
    "    \"\"\"\n",
    "    _data = data.copy()  # Create a copy of the input data to avoid modifying the original DataFrame\n",
    "\n",
    "    # If all_labels is not provided, use the default label set\n",
    "    if all_labels is None:\n",
    "        all_labels = ['Pro', 'Against', 'Neutral', 'Not-about']\n",
    "\n",
    "    all_labels_set = set(all_labels)  # Convert all_labels to a set for quick lookup (optional)\n",
    "\n",
    "    soft_labels_list = []  # Initialize a list to store soft labels for each document\n",
    "\n",
    "    # Iterate through each label in the specified label_column\n",
    "    for labels in _data[label_column]:\n",
    "        \n",
    "        if isinstance(labels, str):\n",
    "            labels = ast.literal_eval(labels)  # If labels are a string, convert them into a list using literal_eval\n",
    "\n",
    "        # Count the occurrences of each label in the current list of labels\n",
    "        label_counts = pd.Series(labels).value_counts().to_dict()\n",
    "\n",
    "        # Create a list of counts, ensuring each label from all_labels is represented (default count = 0)\n",
    "        counts = [label_counts.get(label, 0) for label in all_labels]\n",
    "\n",
    "        # Compute soft probabilities using the softmax function\n",
    "        soft_probs = softmax(counts)\n",
    "\n",
    "        # Map each label to its corresponding softmax probability\n",
    "        soft_label_map = dict(zip(all_labels, soft_probs))\n",
    "\n",
    "        # Retrieve the soft probabilities for all labels in the same order as all_labels\n",
    "        soft_labels = [soft_label_map[label] for label in all_labels]\n",
    "\n",
    "        # Round each soft probability to one decimal point\n",
    "        soft_labels = [round(prob, 1) for prob in soft_labels]\n",
    "\n",
    "        # Append the soft labels to the list\n",
    "        soft_labels_list.append(soft_labels)\n",
    "\n",
    "    # Add a new column to the DataFrame with the generated soft labels\n",
    "    _data[col_name] = soft_labels_list\n",
    "\n",
    "    return _data  # Return the modified DataFrame\n"
   ]
  },
  {
   "cell_type": "code",
   "execution_count": 16,
   "metadata": {},
   "outputs": [],
   "source": [
    "train=create_soft_labels_index(train, 'llm_labels_noninstruct', 'soft_labels_noninst')\n",
    "test=create_soft_labels_index(test, 'llm_labels_noninstruct', 'soft_labels_noninst')\n",
    "val=create_soft_labels_index(val, 'llm_labels_noninstruct', 'soft_labels_noninst')"
   ]
  },
  {
   "cell_type": "code",
   "execution_count": 18,
   "metadata": {},
   "outputs": [],
   "source": [
    "train.to_csv('/home/benedetta.muscato/multiperspective/dataset/df_train_llm_soft.csv', index = False)\n",
    "test.to_csv('/home/benedetta.muscato/multiperspective/dataset/df_test_llm_soft.csv', index = False)\n",
    "val.to_csv('/home/benedetta.muscato/multiperspective/dataset/df_val_llm_soft.csv', index = False)"
   ]
  },
  {
   "cell_type": "code",
   "execution_count": null,
   "metadata": {},
   "outputs": [],
   "source": [
    "# def clean_data(df, col):\n",
    "#     df = df.loc[~(df[col] == 'No majority')]\n",
    "#     return df\n",
    "\n",
    "\n",
    "# train = clean_data(train, 'majority_llm_noninst')\n",
    "# test = clean_data(test, 'majority_llm_noninst')\n",
    "# val = clean_data(val, 'majority_llm_noninst')\n"
   ]
  }
 ],
 "metadata": {
  "kernelspec": {
   "display_name": "multip",
   "language": "python",
   "name": "multip"
  },
  "language_info": {
   "codemirror_mode": {
    "name": "ipython",
    "version": 3
   },
   "file_extension": ".py",
   "mimetype": "text/x-python",
   "name": "python",
   "nbconvert_exporter": "python",
   "pygments_lexer": "ipython3",
   "version": "3.10.12"
  }
 },
 "nbformat": 4,
 "nbformat_minor": 2
}
