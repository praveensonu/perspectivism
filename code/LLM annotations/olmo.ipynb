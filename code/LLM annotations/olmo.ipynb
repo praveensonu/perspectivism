{
 "cells": [
  {
   "cell_type": "code",
   "execution_count": 2,
   "metadata": {},
   "outputs": [],
   "source": [
    "import outlines\n",
    "import pandas as pd\n",
    "import torch\n",
    "import transformers\n",
    "from utils import *"
   ]
  },
  {
   "cell_type": "code",
   "execution_count": 3,
   "metadata": {},
   "outputs": [
    {
     "data": {
      "application/vnd.jupyter.widget-view+json": {
       "model_id": "07f2aab69b9e48f792f86c8a444e6e36",
       "version_major": 2,
       "version_minor": 0
      },
      "text/plain": [
       "Loading checkpoint shards:   0%|          | 0/6 [00:00<?, ?it/s]"
      ]
     },
     "metadata": {},
     "output_type": "display_data"
    }
   ],
   "source": [
    "model_name = 'allenai/OLMo-7B-hf'\n",
    "model = outlines.models.transformers(model_name, model_kwargs={\"torch_dtype\": torch.float16}, device=\"cuda\")"
   ]
  },
  {
   "cell_type": "code",
   "execution_count": 4,
   "metadata": {},
   "outputs": [],
   "source": [
    "choices =[ 'Pro','Against','Neutral','Not-about']"
   ]
  },
  {
   "cell_type": "code",
   "execution_count": 5,
   "metadata": {},
   "outputs": [],
   "source": [
    "generator = outlines.generate.choice(model, choices)"
   ]
  },
  {
   "cell_type": "code",
   "execution_count": 8,
   "metadata": {},
   "outputs": [],
   "source": [
    "# train = pd.read_csv('../../dataset/baseline/train_baseline.csv')\n",
    "# test = pd.read_csv('../../dataset/baseline/test_baseline.csv')\n",
    "# val = pd.read_csv('../../dataset/baseline/val_baseline.csv')\n",
    "\n",
    "#train = pd.read_csv('../../dataset/llm_annotations/train_llm_ann.csv')\n",
    "#test = pd.read_csv('../../dataset/llm_annotations/test_llm_ann.csv')\n",
    "#val = pd.read_csv('../../dataset/llm_annotations/val_llm_ann.csv')\n",
    "\n",
    "\n",
    "\n",
    "train = pd.read_csv('../../dataset/llm_annotations/train_maj.csv')\n",
    "test = pd.read_csv('../../dataset/llm_annotations/test_maj.csv')\n",
    "val = pd.read_csv('../../dataset/llm_annotations/val_maj.csv')\n",
    "\n"
   ]
  },
  {
   "cell_type": "code",
   "execution_count": 10,
   "metadata": {},
   "outputs": [
    {
     "name": "stderr",
     "output_type": "stream",
     "text": [
      "Annotating DataFrame: 100%|██████████| 115/115 [00:00<00:00, 57669.17it/s]\n",
      "Annotating DataFrame:   0%|          | 0/115 [00:00<?, ?it/s]We detected that you are passing `past_key_values` as a tuple and this is deprecated and will be removed in v4.43. Please use an appropriate `Cache` class (https://huggingface.co/docs/transformers/v4.41.3/en/internal/generation_utils#transformers.Cache)\n",
      "Annotating DataFrame: 100%|██████████| 115/115 [00:29<00:00,  3.94it/s]\n",
      "Annotating DataFrame: 100%|██████████| 18/18 [00:00<00:00, 17873.45it/s]\n",
      "Annotating DataFrame: 100%|██████████| 18/18 [00:04<00:00,  3.72it/s]\n",
      "Annotating DataFrame: 100%|██████████| 18/18 [00:00<00:00, 19089.12it/s]\n",
      "Annotating DataFrame: 100%|██████████| 18/18 [00:04<00:00,  3.94it/s]\n"
     ]
    }
   ],
   "source": [
    "\n",
    "col_name = 'olmo'\n",
    "\n",
    "# Annotate the train DataFrame and save to a CSV\n",
    "annotated_train = annotate_dataframe(train, generator, col_name,output_file='../../dataset/llm_annotations/train_maj.csv')\n",
    "\n",
    "# Annotate the test DataFrame and save to a CSV\n",
    "annotated_test = annotate_dataframe(test, generator, col_name, output_file='../../dataset/llm_annotations/test_maj.csv')\n",
    "\n",
    "# Annotate the val DataFrame and save to a CSV\n",
    "annotated_val = annotate_dataframe(val, generator, col_name, output_file='../../dataset/llm_annotations/val_maj.csv')\n"
   ]
  },
  {
   "cell_type": "code",
   "execution_count": 9,
   "metadata": {},
   "outputs": [],
   "source": [
    "# train.rename(columns={'olmo_instruct': 'olmo'}, inplace=True)\n",
    "# test.rename(columns={'olmo_instruct': 'olmo'}, inplace=True)\n",
    "# val.rename(columns={'olmo_instruct': 'olmo'}, inplace=True)\n",
    "\n",
    "# train.to_csv('../../dataset/llm_annotations/olmo_train.csv', index=False)\n",
    "# test.to_csv('../../dataset/llm_annotations/olmo_test.csv', index=False)\n",
    "# val.to_csv('../../dataset/llm_annotations/olmo_val.csv', index=False)"
   ]
  }
 ],
 "metadata": {
  "kernelspec": {
   "display_name": "multip",
   "language": "python",
   "name": "multip"
  },
  "language_info": {
   "codemirror_mode": {
    "name": "ipython",
    "version": 3
   },
   "file_extension": ".py",
   "mimetype": "text/x-python",
   "name": "python",
   "nbconvert_exporter": "python",
   "pygments_lexer": "ipython3",
   "version": "3.10.12"
  }
 },
 "nbformat": 4,
 "nbformat_minor": 2
}
